{
 "cells": [
  {
   "cell_type": "code",
   "execution_count": 67,
   "metadata": {},
   "outputs": [],
   "source": [
    "import pandas as pd\n",
    "import numpy as np"
   ]
  },
  {
   "cell_type": "markdown",
   "metadata": {},
   "source": [
    "There is an issue with the reading of the CSV file, where pandas found a problem with the structure of the data - 12 columns in line 3350, but it found 13.\n",
    "Goung to to open the dataset in the excel file to observe the issue and remoe it mannually.\n",
    "\n",
    "There was also a issue with 12, called 'Unnamed: 12' which idicated that some of the data in the title column has spilled over to the authors column, and consequently, the subsequent columns have also been shifted in columns 4702, 5877, and 8979. I' going to correct it manually in the Excel file since there are just few of them. \n"
   ]
  },
  {
   "cell_type": "code",
   "execution_count": 68,
   "metadata": {},
   "outputs": [],
   "source": [
    "\n",
    "books = pd.read_csv('/Users/anetasullivan/Desktop/C/books.csv')"
   ]
  },
  {
   "cell_type": "code",
   "execution_count": 69,
   "metadata": {},
   "outputs": [
    {
     "data": {
      "text/html": [
       "<div>\n",
       "<style scoped>\n",
       "    .dataframe tbody tr th:only-of-type {\n",
       "        vertical-align: middle;\n",
       "    }\n",
       "\n",
       "    .dataframe tbody tr th {\n",
       "        vertical-align: top;\n",
       "    }\n",
       "\n",
       "    .dataframe thead th {\n",
       "        text-align: right;\n",
       "    }\n",
       "</style>\n",
       "<table border=\"1\" class=\"dataframe\">\n",
       "  <thead>\n",
       "    <tr style=\"text-align: right;\">\n",
       "      <th></th>\n",
       "      <th>bookID</th>\n",
       "      <th>title</th>\n",
       "      <th>authors</th>\n",
       "      <th>average_rating</th>\n",
       "      <th>isbn</th>\n",
       "      <th>isbn13</th>\n",
       "      <th>language_code</th>\n",
       "      <th>num_pages</th>\n",
       "      <th>ratings_count</th>\n",
       "      <th>text_reviews_count</th>\n",
       "      <th>publication_date</th>\n",
       "      <th>publisher</th>\n",
       "    </tr>\n",
       "  </thead>\n",
       "  <tbody>\n",
       "    <tr>\n",
       "      <th>0</th>\n",
       "      <td>1</td>\n",
       "      <td>Harry Potter and the Half-Blood Prince (Harry ...</td>\n",
       "      <td>J.K. Rowling/Mary GrandPré</td>\n",
       "      <td>4.57</td>\n",
       "      <td>0439785960</td>\n",
       "      <td>9.780440e+12</td>\n",
       "      <td>eng</td>\n",
       "      <td>652</td>\n",
       "      <td>2095690</td>\n",
       "      <td>27591</td>\n",
       "      <td>9/16/06</td>\n",
       "      <td>Scholastic Inc.</td>\n",
       "    </tr>\n",
       "    <tr>\n",
       "      <th>1</th>\n",
       "      <td>2</td>\n",
       "      <td>Harry Potter and the Order of the Phoenix (Har...</td>\n",
       "      <td>J.K. Rowling/Mary GrandPré</td>\n",
       "      <td>4.49</td>\n",
       "      <td>0439358078</td>\n",
       "      <td>9.780440e+12</td>\n",
       "      <td>eng</td>\n",
       "      <td>870</td>\n",
       "      <td>2153167</td>\n",
       "      <td>29221</td>\n",
       "      <td>9/1/04</td>\n",
       "      <td>Scholastic Inc.</td>\n",
       "    </tr>\n",
       "    <tr>\n",
       "      <th>2</th>\n",
       "      <td>4</td>\n",
       "      <td>Harry Potter and the Chamber of Secrets (Harry...</td>\n",
       "      <td>J.K. Rowling</td>\n",
       "      <td>4.42</td>\n",
       "      <td>0439554896</td>\n",
       "      <td>9.780440e+12</td>\n",
       "      <td>eng</td>\n",
       "      <td>352</td>\n",
       "      <td>6333</td>\n",
       "      <td>244</td>\n",
       "      <td>11/1/03</td>\n",
       "      <td>Scholastic</td>\n",
       "    </tr>\n",
       "    <tr>\n",
       "      <th>3</th>\n",
       "      <td>5</td>\n",
       "      <td>Harry Potter and the Prisoner of Azkaban (Harr...</td>\n",
       "      <td>J.K. Rowling/Mary GrandPré</td>\n",
       "      <td>4.56</td>\n",
       "      <td>043965548X</td>\n",
       "      <td>9.780440e+12</td>\n",
       "      <td>eng</td>\n",
       "      <td>435</td>\n",
       "      <td>2339585</td>\n",
       "      <td>36325</td>\n",
       "      <td>5/1/04</td>\n",
       "      <td>Scholastic Inc.</td>\n",
       "    </tr>\n",
       "    <tr>\n",
       "      <th>4</th>\n",
       "      <td>8</td>\n",
       "      <td>Harry Potter Boxed Set  Books 1-5 (Harry Potte...</td>\n",
       "      <td>J.K. Rowling/Mary GrandPré</td>\n",
       "      <td>4.78</td>\n",
       "      <td>0439682584</td>\n",
       "      <td>9.780440e+12</td>\n",
       "      <td>eng</td>\n",
       "      <td>2690</td>\n",
       "      <td>41428</td>\n",
       "      <td>164</td>\n",
       "      <td>9/13/04</td>\n",
       "      <td>Scholastic</td>\n",
       "    </tr>\n",
       "  </tbody>\n",
       "</table>\n",
       "</div>"
      ],
      "text/plain": [
       "   bookID                                              title  \\\n",
       "0       1  Harry Potter and the Half-Blood Prince (Harry ...   \n",
       "1       2  Harry Potter and the Order of the Phoenix (Har...   \n",
       "2       4  Harry Potter and the Chamber of Secrets (Harry...   \n",
       "3       5  Harry Potter and the Prisoner of Azkaban (Harr...   \n",
       "4       8  Harry Potter Boxed Set  Books 1-5 (Harry Potte...   \n",
       "\n",
       "                      authors  average_rating        isbn        isbn13  \\\n",
       "0  J.K. Rowling/Mary GrandPré            4.57  0439785960  9.780440e+12   \n",
       "1  J.K. Rowling/Mary GrandPré            4.49  0439358078  9.780440e+12   \n",
       "2                J.K. Rowling            4.42  0439554896  9.780440e+12   \n",
       "3  J.K. Rowling/Mary GrandPré            4.56  043965548X  9.780440e+12   \n",
       "4  J.K. Rowling/Mary GrandPré            4.78  0439682584  9.780440e+12   \n",
       "\n",
       "  language_code    num_pages  ratings_count  text_reviews_count  \\\n",
       "0           eng          652        2095690               27591   \n",
       "1           eng          870        2153167               29221   \n",
       "2           eng          352           6333                 244   \n",
       "3           eng          435        2339585               36325   \n",
       "4           eng         2690          41428                 164   \n",
       "\n",
       "  publication_date        publisher  \n",
       "0          9/16/06  Scholastic Inc.  \n",
       "1           9/1/04  Scholastic Inc.  \n",
       "2          11/1/03       Scholastic  \n",
       "3           5/1/04  Scholastic Inc.  \n",
       "4          9/13/04       Scholastic  "
      ]
     },
     "execution_count": 69,
     "metadata": {},
     "output_type": "execute_result"
    }
   ],
   "source": [
    "\n",
    "books.head()"
   ]
  },
  {
   "cell_type": "markdown",
   "metadata": {},
   "source": [
    "I will drop the book ID because I dont need it. "
   ]
  },
  {
   "cell_type": "code",
   "execution_count": 70,
   "metadata": {},
   "outputs": [],
   "source": [
    "books.drop(columns=['bookID'], inplace=True)"
   ]
  },
  {
   "cell_type": "code",
   "execution_count": 71,
   "metadata": {},
   "outputs": [
    {
     "name": "stdout",
     "output_type": "stream",
     "text": [
      "<class 'pandas.core.frame.DataFrame'>\n",
      "RangeIndex: 11127 entries, 0 to 11126\n",
      "Data columns (total 11 columns):\n",
      " #   Column              Non-Null Count  Dtype  \n",
      "---  ------              --------------  -----  \n",
      " 0   title               11127 non-null  object \n",
      " 1   authors             11127 non-null  object \n",
      " 2   average_rating      11127 non-null  float64\n",
      " 3   isbn                11127 non-null  object \n",
      " 4   isbn13              11127 non-null  float64\n",
      " 5   language_code       11127 non-null  object \n",
      " 6     num_pages         11127 non-null  int64  \n",
      " 7   ratings_count       11127 non-null  int64  \n",
      " 8   text_reviews_count  11127 non-null  int64  \n",
      " 9   publication_date    11127 non-null  object \n",
      " 10  publisher           11127 non-null  object \n",
      "dtypes: float64(2), int64(3), object(6)\n",
      "memory usage: 956.4+ KB\n"
     ]
    }
   ],
   "source": [
    "books.info()"
   ]
  },
  {
   "cell_type": "code",
   "execution_count": 72,
   "metadata": {},
   "outputs": [
    {
     "data": {
      "text/html": [
       "<div>\n",
       "<style scoped>\n",
       "    .dataframe tbody tr th:only-of-type {\n",
       "        vertical-align: middle;\n",
       "    }\n",
       "\n",
       "    .dataframe tbody tr th {\n",
       "        vertical-align: top;\n",
       "    }\n",
       "\n",
       "    .dataframe thead th {\n",
       "        text-align: right;\n",
       "    }\n",
       "</style>\n",
       "<table border=\"1\" class=\"dataframe\">\n",
       "  <thead>\n",
       "    <tr style=\"text-align: right;\">\n",
       "      <th></th>\n",
       "      <th>average_rating</th>\n",
       "      <th>isbn13</th>\n",
       "      <th>num_pages</th>\n",
       "      <th>ratings_count</th>\n",
       "      <th>text_reviews_count</th>\n",
       "    </tr>\n",
       "  </thead>\n",
       "  <tbody>\n",
       "    <tr>\n",
       "      <th>count</th>\n",
       "      <td>11127.000000</td>\n",
       "      <td>1.112700e+04</td>\n",
       "      <td>11127.000000</td>\n",
       "      <td>1.112700e+04</td>\n",
       "      <td>11127.000000</td>\n",
       "    </tr>\n",
       "    <tr>\n",
       "      <th>mean</th>\n",
       "      <td>3.933631</td>\n",
       "      <td>9.759888e+12</td>\n",
       "      <td>336.376921</td>\n",
       "      <td>1.793641e+04</td>\n",
       "      <td>541.854498</td>\n",
       "    </tr>\n",
       "    <tr>\n",
       "      <th>std</th>\n",
       "      <td>0.352445</td>\n",
       "      <td>4.428964e+11</td>\n",
       "      <td>241.127305</td>\n",
       "      <td>1.124794e+05</td>\n",
       "      <td>2576.176608</td>\n",
       "    </tr>\n",
       "    <tr>\n",
       "      <th>min</th>\n",
       "      <td>0.000000</td>\n",
       "      <td>8.987060e+09</td>\n",
       "      <td>0.000000</td>\n",
       "      <td>0.000000e+00</td>\n",
       "      <td>0.000000</td>\n",
       "    </tr>\n",
       "    <tr>\n",
       "      <th>25%</th>\n",
       "      <td>3.770000</td>\n",
       "      <td>9.780350e+12</td>\n",
       "      <td>192.000000</td>\n",
       "      <td>1.040000e+02</td>\n",
       "      <td>9.000000</td>\n",
       "    </tr>\n",
       "    <tr>\n",
       "      <th>50%</th>\n",
       "      <td>3.960000</td>\n",
       "      <td>9.780590e+12</td>\n",
       "      <td>299.000000</td>\n",
       "      <td>7.450000e+02</td>\n",
       "      <td>46.000000</td>\n",
       "    </tr>\n",
       "    <tr>\n",
       "      <th>75%</th>\n",
       "      <td>4.135000</td>\n",
       "      <td>9.780870e+12</td>\n",
       "      <td>416.000000</td>\n",
       "      <td>4.993500e+03</td>\n",
       "      <td>237.500000</td>\n",
       "    </tr>\n",
       "    <tr>\n",
       "      <th>max</th>\n",
       "      <td>5.000000</td>\n",
       "      <td>9.790010e+12</td>\n",
       "      <td>6576.000000</td>\n",
       "      <td>4.597666e+06</td>\n",
       "      <td>94265.000000</td>\n",
       "    </tr>\n",
       "  </tbody>\n",
       "</table>\n",
       "</div>"
      ],
      "text/plain": [
       "       average_rating        isbn13     num_pages  ratings_count  \\\n",
       "count    11127.000000  1.112700e+04  11127.000000   1.112700e+04   \n",
       "mean         3.933631  9.759888e+12    336.376921   1.793641e+04   \n",
       "std          0.352445  4.428964e+11    241.127305   1.124794e+05   \n",
       "min          0.000000  8.987060e+09      0.000000   0.000000e+00   \n",
       "25%          3.770000  9.780350e+12    192.000000   1.040000e+02   \n",
       "50%          3.960000  9.780590e+12    299.000000   7.450000e+02   \n",
       "75%          4.135000  9.780870e+12    416.000000   4.993500e+03   \n",
       "max          5.000000  9.790010e+12   6576.000000   4.597666e+06   \n",
       "\n",
       "       text_reviews_count  \n",
       "count        11127.000000  \n",
       "mean           541.854498  \n",
       "std           2576.176608  \n",
       "min              0.000000  \n",
       "25%              9.000000  \n",
       "50%             46.000000  \n",
       "75%            237.500000  \n",
       "max          94265.000000  "
      ]
     },
     "execution_count": 72,
     "metadata": {},
     "output_type": "execute_result"
    }
   ],
   "source": [
    "books.describe()"
   ]
  },
  {
   "cell_type": "code",
   "execution_count": 73,
   "metadata": {},
   "outputs": [],
   "source": [
    "# Removing leading and trailing spaces, replacing spaces with underscores & converting all to lowercase.\n",
    "books.columns = books.columns.str.strip().str.replace(' ', '_').str.lower()\n"
   ]
  },
  {
   "cell_type": "code",
   "execution_count": 74,
   "metadata": {},
   "outputs": [
    {
     "data": {
      "text/plain": [
       "title                 0\n",
       "authors               0\n",
       "average_rating        0\n",
       "isbn                  0\n",
       "isbn13                0\n",
       "language_code         0\n",
       "num_pages             0\n",
       "ratings_count         0\n",
       "text_reviews_count    0\n",
       "publication_date      0\n",
       "publisher             0\n",
       "dtype: int64"
      ]
     },
     "execution_count": 74,
     "metadata": {},
     "output_type": "execute_result"
    }
   ],
   "source": [
    "books.isnull().sum()"
   ]
  },
  {
   "cell_type": "code",
   "execution_count": 75,
   "metadata": {},
   "outputs": [
    {
     "data": {
      "text/plain": [
       "title                  object\n",
       "authors                object\n",
       "average_rating        float64\n",
       "isbn                   object\n",
       "isbn13                float64\n",
       "language_code          object\n",
       "num_pages               int64\n",
       "ratings_count           int64\n",
       "text_reviews_count      int64\n",
       "publication_date       object\n",
       "publisher              object\n",
       "dtype: object"
      ]
     },
     "execution_count": 75,
     "metadata": {},
     "output_type": "execute_result"
    }
   ],
   "source": [
    "books.dtypes"
   ]
  },
  {
   "cell_type": "code",
   "execution_count": 76,
   "metadata": {},
   "outputs": [],
   "source": [
    "# Keep isbns as as strings\n",
    "books['isbn'] = books['isbn'].astype(str)\n",
    "books['isbn13'] = books['isbn13'].astype(str)\n"
   ]
  },
  {
   "cell_type": "code",
   "execution_count": 77,
   "metadata": {},
   "outputs": [
    {
     "data": {
      "text/plain": [
       "title                  object\n",
       "authors                object\n",
       "average_rating        float64\n",
       "isbn                   object\n",
       "isbn13                 object\n",
       "language_code          object\n",
       "num_pages               int64\n",
       "ratings_count           int64\n",
       "text_reviews_count      int64\n",
       "publication_date       object\n",
       "publisher              object\n",
       "dtype: object"
      ]
     },
     "execution_count": 77,
     "metadata": {},
     "output_type": "execute_result"
    }
   ],
   "source": [
    "books.dtypes"
   ]
  },
  {
   "cell_type": "code",
   "execution_count": 78,
   "metadata": {},
   "outputs": [
    {
     "name": "stderr",
     "output_type": "stream",
     "text": [
      "/var/folders/tz/ks8nm4113zq4z5n0g59b4pnr0000gn/T/ipykernel_11957/429059703.py:2: UserWarning: Could not infer format, so each element will be parsed individually, falling back to `dateutil`. To ensure parsing is consistent and as-expected, please specify a format.\n",
      "  books['publication_date'] = pd.to_datetime(books['publication_date'], errors='coerce')\n"
     ]
    }
   ],
   "source": [
    "# Covert publication_date to Datetime format\n",
    "books['publication_date'] = pd.to_datetime(books['publication_date'], errors='coerce')\n"
   ]
  },
  {
   "cell_type": "code",
   "execution_count": 79,
   "metadata": {},
   "outputs": [
    {
     "data": {
      "text/plain": [
       "<DatetimeArray>\n",
       "['2006-09-16 00:00:00', '2004-09-01 00:00:00', '2003-11-01 00:00:00',\n",
       " '2004-05-01 00:00:00', '2004-09-13 00:00:00', '2005-04-26 00:00:00',\n",
       " '2005-09-12 00:00:00', '2005-11-01 00:00:00', '2002-04-30 00:00:00',\n",
       " '2004-08-03 00:00:00',\n",
       " ...\n",
       " '1989-02-23 00:00:00', '2000-01-28 00:00:00', '2001-09-14 00:00:00',\n",
       " '2018-10-23 00:00:00', '2005-03-05 00:00:00', '1980-05-29 00:00:00',\n",
       " '1997-08-12 00:00:00', '1998-05-31 00:00:00', '1977-07-10 00:00:00',\n",
       " '2003-10-11 00:00:00']\n",
       "Length: 3677, dtype: datetime64[ns]"
      ]
     },
     "execution_count": 79,
     "metadata": {},
     "output_type": "execute_result"
    }
   ],
   "source": [
    "# Displaying unique values of 'publication_date' column\n",
    "books['publication_date'].unique()\n"
   ]
  },
  {
   "cell_type": "markdown",
   "metadata": {},
   "source": [
    "I want to see if any entries failed to convert in the 'publlication_date' column: \n",
    "    Book with bookid 31373 titled \"In Pursuit of the Proper Sinner\" by Elizabeth George.\n",
    "    Book with bookid 45531 titled \"Montaillou village occitan de 1294 à 1324\" by Emmanuel Le Roy Ladurie/Emmanuel Le Roy-Ladurie."
   ]
  },
  {
   "cell_type": "code",
   "execution_count": 80,
   "metadata": {},
   "outputs": [
    {
     "data": {
      "text/html": [
       "<div>\n",
       "<style scoped>\n",
       "    .dataframe tbody tr th:only-of-type {\n",
       "        vertical-align: middle;\n",
       "    }\n",
       "\n",
       "    .dataframe tbody tr th {\n",
       "        vertical-align: top;\n",
       "    }\n",
       "\n",
       "    .dataframe thead th {\n",
       "        text-align: right;\n",
       "    }\n",
       "</style>\n",
       "<table border=\"1\" class=\"dataframe\">\n",
       "  <thead>\n",
       "    <tr style=\"text-align: right;\">\n",
       "      <th></th>\n",
       "      <th>title</th>\n",
       "      <th>authors</th>\n",
       "      <th>average_rating</th>\n",
       "      <th>isbn</th>\n",
       "      <th>isbn13</th>\n",
       "      <th>language_code</th>\n",
       "      <th>num_pages</th>\n",
       "      <th>ratings_count</th>\n",
       "      <th>text_reviews_count</th>\n",
       "      <th>publication_date</th>\n",
       "      <th>publisher</th>\n",
       "    </tr>\n",
       "  </thead>\n",
       "  <tbody>\n",
       "    <tr>\n",
       "      <th>8180</th>\n",
       "      <td>In Pursuit of the Proper Sinner (Inspector Lyn...</td>\n",
       "      <td>Elizabeth  George</td>\n",
       "      <td>4.10</td>\n",
       "      <td>0553575104</td>\n",
       "      <td>9780550000000.0</td>\n",
       "      <td>eng</td>\n",
       "      <td>718</td>\n",
       "      <td>10608</td>\n",
       "      <td>295</td>\n",
       "      <td>NaT</td>\n",
       "      <td>Bantam Books</td>\n",
       "    </tr>\n",
       "    <tr>\n",
       "      <th>11098</th>\n",
       "      <td>Montaillou  village occitan de 1294 à 1324</td>\n",
       "      <td>Emmanuel Le Roy Ladurie/Emmanuel Le Roy-Ladurie</td>\n",
       "      <td>3.96</td>\n",
       "      <td>2070323285</td>\n",
       "      <td>9782070000000.0</td>\n",
       "      <td>fre</td>\n",
       "      <td>640</td>\n",
       "      <td>15</td>\n",
       "      <td>2</td>\n",
       "      <td>NaT</td>\n",
       "      <td>Folio histoire</td>\n",
       "    </tr>\n",
       "  </tbody>\n",
       "</table>\n",
       "</div>"
      ],
      "text/plain": [
       "                                                   title  \\\n",
       "8180   In Pursuit of the Proper Sinner (Inspector Lyn...   \n",
       "11098         Montaillou  village occitan de 1294 à 1324   \n",
       "\n",
       "                                               authors  average_rating  \\\n",
       "8180                                 Elizabeth  George            4.10   \n",
       "11098  Emmanuel Le Roy Ladurie/Emmanuel Le Roy-Ladurie            3.96   \n",
       "\n",
       "             isbn           isbn13 language_code  num_pages  ratings_count  \\\n",
       "8180   0553575104  9780550000000.0           eng        718          10608   \n",
       "11098  2070323285  9782070000000.0           fre        640             15   \n",
       "\n",
       "       text_reviews_count publication_date       publisher  \n",
       "8180                  295              NaT    Bantam Books  \n",
       "11098                   2              NaT  Folio histoire  "
      ]
     },
     "execution_count": 80,
     "metadata": {},
     "output_type": "execute_result"
    }
   ],
   "source": [
    "# Checking for 'NaT' values in 'publication_date' column\n",
    "nat_values = books[books['publication_date'].isna()]\n",
    "\n",
    "# Displaying rows with 'NaT' values\n",
    "nat_values\n"
   ]
  },
  {
   "cell_type": "markdown",
   "metadata": {},
   "source": [
    "Because there are only teo dates missing, I decided to fill them in manually. "
   ]
  },
  {
   "cell_type": "code",
   "execution_count": 81,
   "metadata": {},
   "outputs": [],
   "source": [
    "# Filling in the date for books with titles containing \"In Pursuit of the Proper Sinner\"\n",
    "books.loc[books['isbn']== '0553575104', 'publication_date'] = pd.to_datetime('1999-01-01')\n",
    "books.loc[books['isbn']== '2070323285', 'publication_date'] = pd.to_datetime('1975-01-01')"
   ]
  },
  {
   "cell_type": "code",
   "execution_count": 82,
   "metadata": {},
   "outputs": [
    {
     "name": "stdout",
     "output_type": "stream",
     "text": [
      "                                                   title publication_date\n",
      "8180   In Pursuit of the Proper Sinner (Inspector Lyn...       1999-01-01\n",
      "11098         Montaillou  village occitan de 1294 à 1324       1975-01-01\n"
     ]
    }
   ],
   "source": [
    "filtered_books = books[books['isbn'].isin(['0553575104', '2070323285'])][['title', 'publication_date']]\n",
    "print(filtered_books)\n"
   ]
  },
  {
   "cell_type": "code",
   "execution_count": 83,
   "metadata": {},
   "outputs": [
    {
     "name": "stdout",
     "output_type": "stream",
     "text": [
      "Empty DataFrame\n",
      "Columns: [title, publication_date]\n",
      "Index: []\n"
     ]
    }
   ],
   "source": [
    "missing_dates = books[books['publication_date'].isna()]\n",
    "print(missing_dates[['title', 'publication_date']])\n"
   ]
  },
  {
   "cell_type": "code",
   "execution_count": 84,
   "metadata": {},
   "outputs": [
    {
     "name": "stdout",
     "output_type": "stream",
     "text": [
      "                                                   title publication_date\n",
      "92                CliffsNotes on Tolstoy's Anna Karenina       2065-11-26\n",
      "121                              Henry Miller on Writing       2064-02-01\n",
      "127                        The Air-Conditioned Nightmare       2070-01-17\n",
      "147                                     On Beyond Zebra!       2055-09-12\n",
      "236    For the New Intellectual: The Philosophy of Ay...       2063-12-01\n",
      "...                                                  ...              ...\n",
      "10435                            For Whom the Bell Tolls       2040-01-01\n",
      "10436     Cliffs Notes on Hemingway's The Sun Also Rises       2064-05-20\n",
      "10463         CliffsNotes on Shakespeare's Twelfth Night       2060-09-20\n",
      "10947  Poetry and Prose of Alexander Pope (Riverside ...       2068-01-02\n",
      "11024                 I Never Promised You a Rose Garden       2065-03-01\n",
      "\n",
      "[153 rows x 2 columns]\n"
     ]
    }
   ],
   "source": [
    "from datetime import datetime\n",
    "future_dates = books[books['publication_date'] > datetime.today()]\n",
    "print(future_dates[['title', 'publication_date']])\n"
   ]
  },
  {
   "cell_type": "code",
   "execution_count": 85,
   "metadata": {},
   "outputs": [
    {
     "name": "stdout",
     "output_type": "stream",
     "text": [
      "count                            11127\n",
      "mean     2002-02-07 03:24:51.830682240\n",
      "min                1973-01-01 00:00:00\n",
      "25%                1998-12-01 00:00:00\n",
      "50%                2003-04-28 00:00:00\n",
      "75%                2005-11-01 00:00:00\n",
      "max                2072-12-31 00:00:00\n",
      "Name: publication_date, dtype: object\n"
     ]
    }
   ],
   "source": [
    "print(books['publication_date'].describe())\n"
   ]
  },
  {
   "cell_type": "markdown",
   "metadata": {},
   "source": [
    "There are obviously some issues with some of the dates in 153 books in 'publication_date', they are set in the future, which is clearly incorrect. Going to find out the reason. \n",
    "\n",
    "I have decided to extract the year from the date and create a new column called 'publication_year' and dropm the 'publication _date'"
   ]
  },
  {
   "cell_type": "code",
   "execution_count": 86,
   "metadata": {},
   "outputs": [],
   "source": [
    "# Assuming df is your DataFrame with many columns including 'publication_date'\n",
    "books['year'] = pd.to_datetime(books['publication_date']).dt.year\n"
   ]
  },
  {
   "cell_type": "code",
   "execution_count": 87,
   "metadata": {},
   "outputs": [],
   "source": [
    "# Drop the 'publishing_date'\n",
    "books.drop(columns=['publication_date'], inplace=True)"
   ]
  },
  {
   "cell_type": "code",
   "execution_count": 88,
   "metadata": {},
   "outputs": [
    {
     "name": "stdout",
     "output_type": "stream",
     "text": [
      "There are 153 books that were published in the future.\n"
     ]
    }
   ],
   "source": [
    "# Filter rows where the year is greater than the current year\n",
    "future_books = books[books['year'] > pd.Timestamp.now().year]\n",
    "\n",
    "# Count the number of books published in the future\n",
    "number_of_future_books = len(future_books)\n",
    "\n",
    "print(f\"There are {number_of_future_books} books that were published in the future.\")"
   ]
  },
  {
   "cell_type": "markdown",
   "metadata": {},
   "source": [
    "Going through the dates and comaparing it to the outside sources, it seems like there was a mistake with the dates, they were all publish in 1900 not in 2000. So I will just have to fix the 20 and put there 19. "
   ]
  },
  {
   "cell_type": "code",
   "execution_count": 89,
   "metadata": {},
   "outputs": [
    {
     "name": "stdout",
     "output_type": "stream",
     "text": [
      "Series([], Name: year, dtype: int64)\n"
     ]
    }
   ],
   "source": [
    "# Function to correct years starting with 20xx\n",
    "def correct_year(year):\n",
    "    year_str = str(year)\n",
    "    if year_str.startswith('20'):\n",
    "        return int('19' + year_str[2:])\n",
    "    return year\n",
    "\n",
    "# Only apply the correction to the rows with future publication years\n",
    "books.loc[books['year'] > 2023, 'year'] = books[books['year'] > 2023]['year'].apply(correct_year)\n",
    "\n",
    "# To verify the changes\n",
    "print(books.loc[books['year'] > 2023, 'year']) # This should now be empty if all future dates are corrected\n"
   ]
  },
  {
   "cell_type": "code",
   "execution_count": 90,
   "metadata": {},
   "outputs": [
    {
     "data": {
      "text/html": [
       "<div>\n",
       "<style scoped>\n",
       "    .dataframe tbody tr th:only-of-type {\n",
       "        vertical-align: middle;\n",
       "    }\n",
       "\n",
       "    .dataframe tbody tr th {\n",
       "        vertical-align: top;\n",
       "    }\n",
       "\n",
       "    .dataframe thead th {\n",
       "        text-align: right;\n",
       "    }\n",
       "</style>\n",
       "<table border=\"1\" class=\"dataframe\">\n",
       "  <thead>\n",
       "    <tr style=\"text-align: right;\">\n",
       "      <th></th>\n",
       "      <th>average_rating</th>\n",
       "      <th>num_pages</th>\n",
       "      <th>ratings_count</th>\n",
       "      <th>text_reviews_count</th>\n",
       "      <th>year</th>\n",
       "    </tr>\n",
       "  </thead>\n",
       "  <tbody>\n",
       "    <tr>\n",
       "      <th>count</th>\n",
       "      <td>11127.000000</td>\n",
       "      <td>11127.000000</td>\n",
       "      <td>1.112700e+04</td>\n",
       "      <td>11127.000000</td>\n",
       "      <td>11127.000000</td>\n",
       "    </tr>\n",
       "    <tr>\n",
       "      <th>mean</th>\n",
       "      <td>3.933631</td>\n",
       "      <td>336.376921</td>\n",
       "      <td>1.793641e+04</td>\n",
       "      <td>541.854498</td>\n",
       "      <td>2000.238699</td>\n",
       "    </tr>\n",
       "    <tr>\n",
       "      <th>std</th>\n",
       "      <td>0.352445</td>\n",
       "      <td>241.127305</td>\n",
       "      <td>1.124794e+05</td>\n",
       "      <td>2576.176608</td>\n",
       "      <td>7.952481</td>\n",
       "    </tr>\n",
       "    <tr>\n",
       "      <th>min</th>\n",
       "      <td>0.000000</td>\n",
       "      <td>0.000000</td>\n",
       "      <td>0.000000e+00</td>\n",
       "      <td>0.000000</td>\n",
       "      <td>1925.000000</td>\n",
       "    </tr>\n",
       "    <tr>\n",
       "      <th>25%</th>\n",
       "      <td>3.770000</td>\n",
       "      <td>192.000000</td>\n",
       "      <td>1.040000e+02</td>\n",
       "      <td>9.000000</td>\n",
       "      <td>1998.000000</td>\n",
       "    </tr>\n",
       "    <tr>\n",
       "      <th>50%</th>\n",
       "      <td>3.960000</td>\n",
       "      <td>299.000000</td>\n",
       "      <td>7.450000e+02</td>\n",
       "      <td>46.000000</td>\n",
       "      <td>2003.000000</td>\n",
       "    </tr>\n",
       "    <tr>\n",
       "      <th>75%</th>\n",
       "      <td>4.135000</td>\n",
       "      <td>416.000000</td>\n",
       "      <td>4.993500e+03</td>\n",
       "      <td>237.500000</td>\n",
       "      <td>2005.000000</td>\n",
       "    </tr>\n",
       "    <tr>\n",
       "      <th>max</th>\n",
       "      <td>5.000000</td>\n",
       "      <td>6576.000000</td>\n",
       "      <td>4.597666e+06</td>\n",
       "      <td>94265.000000</td>\n",
       "      <td>2023.000000</td>\n",
       "    </tr>\n",
       "  </tbody>\n",
       "</table>\n",
       "</div>"
      ],
      "text/plain": [
       "       average_rating     num_pages  ratings_count  text_reviews_count  \\\n",
       "count    11127.000000  11127.000000   1.112700e+04        11127.000000   \n",
       "mean         3.933631    336.376921   1.793641e+04          541.854498   \n",
       "std          0.352445    241.127305   1.124794e+05         2576.176608   \n",
       "min          0.000000      0.000000   0.000000e+00            0.000000   \n",
       "25%          3.770000    192.000000   1.040000e+02            9.000000   \n",
       "50%          3.960000    299.000000   7.450000e+02           46.000000   \n",
       "75%          4.135000    416.000000   4.993500e+03          237.500000   \n",
       "max          5.000000   6576.000000   4.597666e+06        94265.000000   \n",
       "\n",
       "               year  \n",
       "count  11127.000000  \n",
       "mean    2000.238699  \n",
       "std        7.952481  \n",
       "min     1925.000000  \n",
       "25%     1998.000000  \n",
       "50%     2003.000000  \n",
       "75%     2005.000000  \n",
       "max     2023.000000  "
      ]
     },
     "execution_count": 90,
     "metadata": {},
     "output_type": "execute_result"
    }
   ],
   "source": [
    "books.describe()"
   ]
  },
  {
   "cell_type": "markdown",
   "metadata": {},
   "source": []
  },
  {
   "cell_type": "code",
   "execution_count": 91,
   "metadata": {},
   "outputs": [],
   "source": [
    "# Find any duplicates\n",
    "duplicates = books.duplicated()"
   ]
  },
  {
   "cell_type": "code",
   "execution_count": 92,
   "metadata": {},
   "outputs": [
    {
     "name": "stdout",
     "output_type": "stream",
     "text": [
      "There are 0 duplicate rows.\n"
     ]
    }
   ],
   "source": [
    "num_duplicates = duplicates.sum()\n",
    "print(f\"There are {num_duplicates} duplicate rows.\")\n"
   ]
  },
  {
   "cell_type": "markdown",
   "metadata": {},
   "source": [
    "It seems like there are books with 0 pages and 0 reviews. It need to be explored more in detail. "
   ]
  },
  {
   "cell_type": "markdown",
   "metadata": {},
   "source": [
    "## Exploring average_rating column"
   ]
  },
  {
   "cell_type": "code",
   "execution_count": 93,
   "metadata": {},
   "outputs": [
    {
     "name": "stdout",
     "output_type": "stream",
     "text": [
      "                                                   title  \\\n",
      "265    Out to Eat London 2002 (Lonely Planet Out to Eat)   \n",
      "375                       Juiced Official Strategy Guide   \n",
      "987             Open City 6: The Only Woman He Ever Left   \n",
      "2532   How To Meditate: An Anthology Of Talks On Medi...   \n",
      "2533          Insights: Talks On The Nature Of Existence   \n",
      "2758                 Venac sonetnih venaca; Puževa srma   \n",
      "3493   Brodie's notes on Aldous Huxley's brave new world   \n",
      "4242                                 American Film Guide   \n",
      "4678   The Man and the Author: John Milton: Twentieth...   \n",
      "5325   Canopy: A Work for Voice and Light in Harvard ...   \n",
      "6383          Laguna  I Love You: The Best of \"Our Town\"   \n",
      "6561                   American Writers  Supplement VIII   \n",
      "6862                            The Road To War  1933 39   \n",
      "6880   I'll Be Home Before Midnight and I Won't Get P...   \n",
      "7147   Mythographi Graeci 1: Apollodori Bibliotheca  ...   \n",
      "7402                    Sclerotherapy and vein treatment   \n",
      "7576                            The Berlin Phenomenology   \n",
      "7637        Your Child and Jesus: A Family Activity Book   \n",
      "7800                   Beckett Football Card Price Guide   \n",
      "8979   Brown's Star Atlas: Showing All The Bright Sta...   \n",
      "9335       Random House Crossword Mega Omnibus  Volume 1   \n",
      "9441   Classroom Interactions as Cross-Cultural Encou...   \n",
      "10142                                      Day and Night   \n",
      "10501  The Fantastic Vampire: Studies in the Children...   \n",
      "10921  The Leadership Challenge: Skills for Taking Ch...   \n",
      "11031  Anthony Thwaite: In Conversation With Peter Da...   \n",
      "\n",
      "                                                 authors  average_rating  \\\n",
      "265                             Lonely Planet/Mark Honan             0.0   \n",
      "375                                           Doug Walsh             0.0   \n",
      "987    Open City Magazine/James Purdy/Daniel Pinchbec...             0.0   \n",
      "2532                                   Frederick P. Lenz             0.0   \n",
      "2533                                   Frederick P. Lenz             0.0   \n",
      "2758                                        Dobrica Erić             0.0   \n",
      "3493                                      Graham Handley             0.0   \n",
      "4242                                     Frank N. Magill             0.0   \n",
      "4678                                     J. Martin Evans             0.0   \n",
      "5325   David   Ward/Parveen Adams/Seamus Heaney/Ivan ...             0.0   \n",
      "6383                           John Weld/Phil Interlandi             0.0   \n",
      "6561                            Jay Parini/August Wilson             0.0   \n",
      "6862                                    Andrew      Hunt             0.0   \n",
      "6880                                     Anthony E. Wolf             0.0   \n",
      "7147                          Apollodorus/Richard Wagner             0.0   \n",
      "7402   Robert A. Weiss/Margaret A. Weiss/Karen L. Bea...             0.0   \n",
      "7576    Georg Wilhelm Friedrich Hegel/Michael John Petry             0.0   \n",
      "7637                           Rick Osborne/Kevin Miller             0.0   \n",
      "7800                          Dan Hitt/James Beckett III             0.0   \n",
      "8979                                Brown Son & Ferguson             0.0   \n",
      "9335                          United Feature Syndication             0.0   \n",
      "9441                     Jasmine C.M. Luk/Angel M.Y. Lin             0.0   \n",
      "10142                           Better Homes and Gardens             0.0   \n",
      "10501                                  James Craig Holte             0.0   \n",
      "10921                                   Warren G. Bennis             0.0   \n",
      "11031  Peter  Dale/Ian          Hamilton/Anthony Thwaite             0.0   \n",
      "\n",
      "             isbn           isbn13 language_code  num_pages  ratings_count  \\\n",
      "265    1740592050  9781740000000.0           eng        295              0   \n",
      "375    0744005612  9780740000000.0           eng        112              0   \n",
      "987    189044717X  9781890000000.0           eng        200              0   \n",
      "2532   1932206108  9781930000000.0           eng        228              0   \n",
      "2533   1932206086  9781930000000.0           eng        304              0   \n",
      "2758   8644101277  9788640000000.0           srp        222              0   \n",
      "3493   0333581296  9780330000000.0           eng         71              0   \n",
      "4242   0893562505  9780890000000.0           eng          5              0   \n",
      "4678   0415940478  9780420000000.0           eng        386              0   \n",
      "5325   0916724948  9780920000000.0           eng         63              0   \n",
      "6383   1564741575  9781560000000.0           eng        285              0   \n",
      "6561   0684806371  9780680000000.0           eng        400              0   \n",
      "6862   0340774770  9780340000000.0           eng        128              0   \n",
      "6880   0394755669  9780390000000.0           eng        288              0   \n",
      "7147   3598715439  9783600000000.0           grc        335              0   \n",
      "7402   0071485422  9780070000000.0           eng        248              0   \n",
      "7576   9027712050  9789030000000.0           eng        210              0   \n",
      "7637   080242855X  9780800000000.0           eng        112              0   \n",
      "7800   1930692471  9781930000000.0           eng        830              0   \n",
      "8979   0851742718  9780850000000.0           eng         49              0   \n",
      "9335   081292763X  9780810000000.0           eng        336              0   \n",
      "9441   0805850848  9780810000000.0           eng        241              0   \n",
      "10142  0696018829  9780700000000.0           eng         32              0   \n",
      "10501  0313309337  9780310000000.0           eng        176              0   \n",
      "10921  088684049X  9780890000000.0           eng         60              0   \n",
      "11031  0953284123  9780950000000.0           eng         96              0   \n",
      "\n",
      "       text_reviews_count                                          publisher  \\\n",
      "265                     0                                      Lonely Planet   \n",
      "375                     0                                         BradyGames   \n",
      "987                     0                       Grove Press  Open City Books   \n",
      "2532                    0  Frederick P. Lenz Foundation for American Budd...   \n",
      "2533                    0  Frederick P. Lenz Foundation for American Budd...   \n",
      "2758                    0                     Izdavačka agencija \"Draganić\"   \n",
      "3493                    0                                          Macmillan   \n",
      "4242                    0                                    Salem Press Inc   \n",
      "4678                    0                                          Routledge   \n",
      "5325                    0                                  Arts Publications   \n",
      "6383                    0                                      Fithian Press   \n",
      "6561                    0                                       Gale Cengage   \n",
      "6862                    0            Hodder & Stoughton Educational Division   \n",
      "6880                    0                   Knopf Doubleday Publishing Group   \n",
      "7147                    0                                   K.G. Saur Verlag   \n",
      "7402                    0                McGraw-Hill Professional Publishing   \n",
      "7576                    0                                           Springer   \n",
      "7637                    0                                   Moody Publishers   \n",
      "7800                    0                                      Beckett Media   \n",
      "8979                    0                          Brown Son & Ferguson Ltd.   \n",
      "9335                    0                       Random House Puzzles & Games   \n",
      "9441                    0                                          Routledge   \n",
      "10142                   1                               Meredith Corporation   \n",
      "10501                   0                                    Greenwood Press   \n",
      "10921                   0                    AMR/Advanced Management Reports   \n",
      "11031                   0                      Between the Lines Productions   \n",
      "\n",
      "       year  \n",
      "265    2001  \n",
      "375    2005  \n",
      "987    2000  \n",
      "2532   2004  \n",
      "2533   2003  \n",
      "2758   1996  \n",
      "3493   1992  \n",
      "4242   1983  \n",
      "4678   2002  \n",
      "5325   1997  \n",
      "6383   1996  \n",
      "6561   2001  \n",
      "6862   2000  \n",
      "6880   1988  \n",
      "7147   1998  \n",
      "7402   2011  \n",
      "7576   1981  \n",
      "7637   1999  \n",
      "7800   2006  \n",
      "8979   1977  \n",
      "9335   1997  \n",
      "9441   2006  \n",
      "10142  1989  \n",
      "10501  2002  \n",
      "10921  1985  \n",
      "11031  1999  \n",
      "\n",
      "Number of books with the smallest average rating: 26\n"
     ]
    }
   ],
   "source": [
    "# Find the smallest average rating\n",
    "smallest_avg_rating = books['average_rating'].min()\n",
    "\n",
    "# Filter the books with the smallest average rating\n",
    "books_with_smallest_avg_rating = books[books['average_rating'] == smallest_avg_rating]\n",
    "\n",
    "# Display the books with the smallest average rating\n",
    "print(books_with_smallest_avg_rating)\n",
    "\n",
    "# Count the number of such books\n",
    "num_books_with_smallest_avg_rating = books_with_smallest_avg_rating.shape[0]\n",
    "print(f\"\\nNumber of books with the smallest average rating: {num_books_with_smallest_avg_rating}\")\n"
   ]
  },
  {
   "cell_type": "markdown",
   "metadata": {},
   "source": [
    "My initial thought was to edit the missing ratings manually from the GoodReads since it is only 26 books but after going through the books, I found out they didn't received any reviews or had only 1 rating so I decided to drop all of them. \n",
    "\n",
    "Before I go ahead and will delete some row, I would like to see correlation matrix. "
   ]
  },
  {
   "cell_type": "code",
   "execution_count": 94,
   "metadata": {},
   "outputs": [
    {
     "name": "stdout",
     "output_type": "stream",
     "text": [
      "-0.004013392450019268\n"
     ]
    }
   ],
   "source": [
    "correlation = books['average_rating'].apply(lambda x: 1 if x == 0 else 0).corr(books['num_pages'].apply(lambda x: 1 if x == 0 else 0))\n",
    "print(correlation)"
   ]
  },
  {
   "cell_type": "markdown",
   "metadata": {},
   "source": [
    "No linear correlation between those two. "
   ]
  },
  {
   "cell_type": "code",
   "execution_count": 95,
   "metadata": {},
   "outputs": [],
   "source": [
    "# Drop the books with 0 ratings\n",
    "books = books[books['average_rating'] != 0]"
   ]
  },
  {
   "cell_type": "code",
   "execution_count": 96,
   "metadata": {},
   "outputs": [
    {
     "data": {
      "text/html": [
       "<div>\n",
       "<style scoped>\n",
       "    .dataframe tbody tr th:only-of-type {\n",
       "        vertical-align: middle;\n",
       "    }\n",
       "\n",
       "    .dataframe tbody tr th {\n",
       "        vertical-align: top;\n",
       "    }\n",
       "\n",
       "    .dataframe thead th {\n",
       "        text-align: right;\n",
       "    }\n",
       "</style>\n",
       "<table border=\"1\" class=\"dataframe\">\n",
       "  <thead>\n",
       "    <tr style=\"text-align: right;\">\n",
       "      <th></th>\n",
       "      <th>average_rating</th>\n",
       "      <th>num_pages</th>\n",
       "      <th>ratings_count</th>\n",
       "      <th>text_reviews_count</th>\n",
       "      <th>year</th>\n",
       "    </tr>\n",
       "  </thead>\n",
       "  <tbody>\n",
       "    <tr>\n",
       "      <th>count</th>\n",
       "      <td>11101.000000</td>\n",
       "      <td>11101.000000</td>\n",
       "      <td>1.110100e+04</td>\n",
       "      <td>11101.000000</td>\n",
       "      <td>11101.000000</td>\n",
       "    </tr>\n",
       "    <tr>\n",
       "      <th>mean</th>\n",
       "      <td>3.942844</td>\n",
       "      <td>336.650212</td>\n",
       "      <td>1.797842e+04</td>\n",
       "      <td>543.123502</td>\n",
       "      <td>2000.246644</td>\n",
       "    </tr>\n",
       "    <tr>\n",
       "      <th>std</th>\n",
       "      <td>0.296950</td>\n",
       "      <td>241.209946</td>\n",
       "      <td>1.126077e+05</td>\n",
       "      <td>2579.058368</td>\n",
       "      <td>7.949994</td>\n",
       "    </tr>\n",
       "    <tr>\n",
       "      <th>min</th>\n",
       "      <td>1.000000</td>\n",
       "      <td>0.000000</td>\n",
       "      <td>0.000000e+00</td>\n",
       "      <td>0.000000</td>\n",
       "      <td>1925.000000</td>\n",
       "    </tr>\n",
       "    <tr>\n",
       "      <th>25%</th>\n",
       "      <td>3.780000</td>\n",
       "      <td>193.000000</td>\n",
       "      <td>1.050000e+02</td>\n",
       "      <td>9.000000</td>\n",
       "      <td>1998.000000</td>\n",
       "    </tr>\n",
       "    <tr>\n",
       "      <th>50%</th>\n",
       "      <td>3.960000</td>\n",
       "      <td>300.000000</td>\n",
       "      <td>7.490000e+02</td>\n",
       "      <td>47.000000</td>\n",
       "      <td>2003.000000</td>\n",
       "    </tr>\n",
       "    <tr>\n",
       "      <th>75%</th>\n",
       "      <td>4.140000</td>\n",
       "      <td>416.000000</td>\n",
       "      <td>5.019000e+03</td>\n",
       "      <td>239.000000</td>\n",
       "      <td>2005.000000</td>\n",
       "    </tr>\n",
       "    <tr>\n",
       "      <th>max</th>\n",
       "      <td>5.000000</td>\n",
       "      <td>6576.000000</td>\n",
       "      <td>4.597666e+06</td>\n",
       "      <td>94265.000000</td>\n",
       "      <td>2023.000000</td>\n",
       "    </tr>\n",
       "  </tbody>\n",
       "</table>\n",
       "</div>"
      ],
      "text/plain": [
       "       average_rating     num_pages  ratings_count  text_reviews_count  \\\n",
       "count    11101.000000  11101.000000   1.110100e+04        11101.000000   \n",
       "mean         3.942844    336.650212   1.797842e+04          543.123502   \n",
       "std          0.296950    241.209946   1.126077e+05         2579.058368   \n",
       "min          1.000000      0.000000   0.000000e+00            0.000000   \n",
       "25%          3.780000    193.000000   1.050000e+02            9.000000   \n",
       "50%          3.960000    300.000000   7.490000e+02           47.000000   \n",
       "75%          4.140000    416.000000   5.019000e+03          239.000000   \n",
       "max          5.000000   6576.000000   4.597666e+06        94265.000000   \n",
       "\n",
       "               year  \n",
       "count  11101.000000  \n",
       "mean    2000.246644  \n",
       "std        7.949994  \n",
       "min     1925.000000  \n",
       "25%     1998.000000  \n",
       "50%     2003.000000  \n",
       "75%     2005.000000  \n",
       "max     2023.000000  "
      ]
     },
     "execution_count": 96,
     "metadata": {},
     "output_type": "execute_result"
    }
   ],
   "source": [
    "books.describe()"
   ]
  },
  {
   "cell_type": "code",
   "execution_count": 97,
   "metadata": {},
   "outputs": [
    {
     "name": "stdout",
     "output_type": "stream",
     "text": [
      "Number of books with 0 average rating: 0\n"
     ]
    }
   ],
   "source": [
    "count_zero_rating_books = books[books['average_rating'] == 0].shape[0]\n",
    "print(f\"Number of books with 0 average rating: {count_zero_rating_books}\")\n"
   ]
  },
  {
   "cell_type": "markdown",
   "metadata": {},
   "source": [
    "## Exploring num_pages columns"
   ]
  },
  {
   "cell_type": "code",
   "execution_count": 98,
   "metadata": {},
   "outputs": [
    {
     "name": "stdout",
     "output_type": "stream",
     "text": [
      "Outliers in num_pages are at index positions: [1, 4, 6, 7, 8, 11, 21, 22, 24, 62, 84, 85, 89, 90, 91, 93, 94, 95, 128, 166, 173, 176, 177, 179, 188, 201, 213, 233, 235, 237, 250, 267, 269, 270, 335, 398, 401, 406, 420, 421, 526, 529, 595, 604, 605, 606, 609, 615, 626, 627, 628, 648, 655, 657, 667, 669, 682, 683, 702, 713, 714, 715, 722, 724, 726, 733, 761, 780, 796, 806, 808, 811, 816, 822, 897, 904, 906, 998, 999, 1001, 1002, 1003, 1004, 1005, 1053, 1055, 1056, 1057, 1087, 1102, 1103, 1105, 1110, 1145, 1146, 1148, 1166, 1176, 1179, 1180, 1181, 1225, 1280, 1326, 1332, 1344, 1353, 1370, 1380, 1386, 1407, 1408, 1409, 1428, 1439, 1518, 1521, 1528, 1541, 1560, 1571, 1575, 1592, 1593, 1620, 1625, 1633, 1634, 1643, 1660, 1695, 1721, 1734, 1750, 1766, 1785, 1795, 1825, 1837, 1872, 1873, 1913, 1961, 1981, 1985, 1987, 1989, 1990, 2004, 2005, 2054, 2059, 2065, 2117, 2159, 2182, 2192, 2257, 2271, 2274, 2323, 2324, 2446, 2541, 2542, 2543, 2544, 2545, 2559, 2566, 2594, 2620, 2630, 2650, 2653, 2744, 2746, 2770, 2814, 2819, 2836, 2839, 2846, 2852, 2869, 2872, 2925, 2931, 2936, 2937, 2959, 2960, 2962, 2970, 2972, 2976, 2977, 2980, 2987, 3018, 3057, 3086, 3092, 3131, 3137, 3139, 3147, 3167, 3182, 3244, 3248, 3272, 3282, 3287, 3290, 3336, 3343, 3375, 3394, 3404, 3408, 3410, 3411, 3414, 3452, 3479, 3480, 3481, 3483, 3484, 3512, 3534, 3540, 3545, 3594, 3623, 3658, 3827, 3889, 3890, 3891, 3909, 3926, 3991, 3997, 4035, 4095, 4141, 4161, 4164, 4260, 4273, 4284, 4303, 4309, 4322, 4323, 4343, 4348, 4413, 4444, 4454, 4462, 4467, 4472, 4473, 4474, 4567, 4579, 4621, 4659, 4662, 4677, 4679, 4707, 4746, 4748, 4765, 4772, 4803, 4834, 4846, 4848, 4849, 4869, 4904, 5001, 5036, 5037, 5039, 5040, 5048, 5049, 5058, 5059, 5060, 5062, 5087, 5095, 5119, 5126, 5163, 5181, 5187, 5190, 5191, 5194, 5200, 5217, 5232, 5234, 5281, 5285, 5302, 5350, 5363, 5376, 5377, 5379, 5416, 5418, 5453, 5458, 5468, 5485, 5486, 5487, 5488, 5539, 5566, 5575, 5597, 5609, 5616, 5648, 5668, 5679, 5699, 5715, 5724, 5739, 5823, 5875, 5920, 5963, 6110, 6149, 6260, 6263, 6265, 6302, 6306, 6310, 6349, 6352, 6353, 6408, 6444, 6452, 6454, 6476, 6500, 6583, 6590, 6600, 6603, 6646, 6655, 6783, 6796, 6799, 6805, 6806, 6809, 6810, 6815, 6817, 6821, 6822, 6825, 6826, 6834, 6836, 6872, 6902, 6910, 6984, 6985, 6988, 7019, 7066, 7071, 7096, 7104, 7158, 7159, 7165, 7188, 7208, 7218, 7246, 7254, 7259, 7260, 7355, 7371, 7374, 7460, 7463, 7469, 7470, 7471, 7472, 7473, 7509, 7510, 7513, 7514, 7523, 7532, 7534, 7647, 7666, 7707, 7734, 7735, 7745, 7768, 7774, 7848, 7865, 7937, 7984, 7992, 7997, 8009, 8021, 8022, 8073, 8115, 8134, 8135, 8136, 8138, 8165, 8177, 8188, 8233, 8235, 8242, 8246, 8260, 8285, 8301, 8302, 8304, 8309, 8331, 8425, 8430, 8447, 8448, 8452, 8455, 8477, 8514, 8523, 8600, 8609, 8624, 8626, 8771, 8774, 8817, 8823, 8841, 8843, 8871, 8885, 8962, 8964, 8972, 8973, 8990, 9015, 9033, 9045, 9046, 9131, 9156, 9169, 9204, 9256, 9280, 9293, 9322, 9408, 9469, 9565, 9580, 9582, 9591, 9594, 9598, 9715, 9933, 9953, 9968, 9980, 9983, 10014, 10039, 10052, 10053, 10072, 10073, 10082, 10084, 10086, 10129, 10151, 10209, 10313, 10326, 10335, 10352, 10356, 10360, 10378, 10382, 10406, 10538, 10539, 10542, 10543, 10547, 10550, 10562, 10600, 10749, 10753, 10754, 10842, 10910, 10946, 10959, 10963, 10995, 10996, 10998, 10999, 11022, 11027, 11028, 11034, 11085, 11087, 11114]\n",
      "                                                   title  num_pages\n",
      "1      Harry Potter and the Order of the Phoenix (Har...        870\n",
      "4      Harry Potter Boxed Set  Books 1-5 (Harry Potte...       2690\n",
      "6           Harry Potter Collection (Harry Potter  #1-6)       3342\n",
      "7      The Ultimate Hitchhiker's Guide: Five Complete...        815\n",
      "8      The Ultimate Hitchhiker's Guide to the Galaxy ...        815\n",
      "...                                                  ...        ...\n",
      "11028                                     Pandora's Star        768\n",
      "11034                Quicksilver (The Baroque Cycle  #1)        927\n",
      "11085      His Dark Materials (His Dark Materials  #1-3)        933\n",
      "11087    His Dark Materials Omnibus (His Dark Materials)        944\n",
      "11114                             Las Crónicas de Narnia        816\n",
      "\n",
      "[558 rows x 2 columns]\n"
     ]
    }
   ],
   "source": [
    "# Looking for outliers in num pages \n",
    "def find_outliers(column):\n",
    "    \n",
    "    Q1 = column.quantile(0.25)\n",
    "    Q3 = column.quantile(0.75)\n",
    "    IQR = Q3 - Q1\n",
    "\n",
    "    lower_bound = Q1 - 1.5 * IQR\n",
    "    upper_bound = Q3 + 1.5 * IQR\n",
    "\n",
    "    return column.index[(column < lower_bound) | (column > upper_bound)]\n",
    "\n",
    "outliers_index = find_outliers(books['num_pages'])\n",
    "\n",
    "print(\"Outliers in num_pages are at index positions:\", outliers_index.tolist())\n",
    "print(books.loc[outliers_index, ['title', 'num_pages']])\n"
   ]
  },
  {
   "cell_type": "code",
   "execution_count": 99,
   "metadata": {},
   "outputs": [
    {
     "data": {
      "image/png": "[encoded data removed]",
      "text/plain": [
       "<Figure size 1200x600 with 1 Axes>"
      ]
     },
     "metadata": {},
     "output_type": "display_data"
    }
   ],
   "source": [
    "# Set the style of seaborn for better aesthetics\n",
    "sns.set_style('whitegrid')\n",
    "\n",
    "# Plot a boxplot to visualize outliers\n",
    "plt.figure(figsize=(12, 6))\n",
    "sns.boxplot(x=books['num_pages'])\n",
    "plt.title('Boxplot for Number of Pages in Books')\n",
    "plt.xlabel('Number of Pages')\n",
    "\n",
    "# Annotate Outliers\n",
    "outliers = books.loc[outliers_index, 'num_pages']\n",
    "for index in outliers_index:\n",
    "    plt.annotate(text=books.loc[index, 'title'],\n",
    "                 xy=(0, books.loc[index, 'num_pages']),\n",
    "                 xytext=(0.5, books.loc[index, 'num_pages']),\n",
    "                 arrowprops=dict(facecolor='yellow', shrink=0.05))\n",
    "\n",
    "plt.show()\n"
   ]
  },
  {
   "cell_type": "markdown",
   "metadata": {},
   "source": [
    "The box itself shows that the majority of the book falls around 200-400 pages. When looking at the boxplot it show that there are many outliers probably due to being part of a book series collected into one volume. The box "
   ]
  },
  {
   "cell_type": "code",
   "execution_count": null,
   "metadata": {},
   "outputs": [],
   "source": []
  },
  {
   "cell_type": "code",
   "execution_count": 133,
   "metadata": {},
   "outputs": [
    {
     "name": "stdout",
     "output_type": "stream",
     "text": [
      "                                                   title  \\\n",
      "306    The 5 Love Languages / The 5 Love Languages Jo...   \n",
      "853                     The Tragedy of Pudd'nhead Wilson   \n",
      "1061   Murder by Moonlight & Other Mysteries (New Adv...   \n",
      "1064   The Unfortunate Tobacconist & Other Mysteries ...   \n",
      "1230              The Da Vinci Code (Robert Langdon  #2)   \n",
      "...                                                  ...   \n",
      "10030                  The Chessmen of Mars (Barsoom #5)   \n",
      "10192                     Fine Lines (One-Eyed Mack  #6)   \n",
      "10624  Stowaway and Milk Run: Two Unabridged Stories ...   \n",
      "10926                        The Mask of the Enchantress   \n",
      "11081  Treasury of American Tall Tales: Volume 1: Dav...   \n",
      "\n",
      "                                                 authors  average_rating  \\\n",
      "306                                         Gary Chapman            4.70   \n",
      "853                          Mark Twain/Michael Prichard            3.79   \n",
      "1061                                          NOT A BOOK            4.00   \n",
      "1064                                          NOT A BOOK            3.50   \n",
      "1230                              Dan Brown/Paul Michael            3.84   \n",
      "...                                                  ...             ...   \n",
      "10030                    Edgar Rice Burroughs/John Bolen            3.83   \n",
      "10192                                         Jim Lehrer            3.23   \n",
      "10624                     Mary Higgins Clark/Jan Maxwell            3.49   \n",
      "10926                                      Victoria Holt            3.85   \n",
      "11081  David Bromberg/Jay Ungar/Molly Mason/Garrison ...            3.86   \n",
      "\n",
      "             isbn           isbn13 language_code  num_pages  ratings_count  \\\n",
      "306    0802415318  9780800000000.0           eng          0             22   \n",
      "853    140015068X  9781400000000.0           eng          0              3   \n",
      "1061   0743564677  9780740000000.0           eng          0              7   \n",
      "1064   074353395X  9780740000000.0           eng          0             12   \n",
      "1230   0739339788  9780740000000.0           eng          0             91   \n",
      "...           ...              ...           ...        ...            ...   \n",
      "10030  1400130212  9781400000000.0           eng          0           5147   \n",
      "10192  0517164353  9780520000000.0           eng          0             17   \n",
      "10624  0671046241  9780670000000.0           eng          0             64   \n",
      "10926  0449210847  9780450000000.0           eng          0             21   \n",
      "11081  0739336509  9780740000000.0           eng          0             36   \n",
      "\n",
      "       text_reviews_count                      publisher  year  \\\n",
      "306                     4               Moody Publishers  2005   \n",
      "853                     0                   Tantor Media  2003   \n",
      "1061                    2          Simon  Schuster Audio  2006   \n",
      "1064                    1         Simon & Schuster Audio  2003   \n",
      "1230                   16             Random House Audio  2006   \n",
      "...                   ...                            ...   ...   \n",
      "10030                 157                   Tantor Media  2005   \n",
      "10192                   4  Random House Value Publishing  1995   \n",
      "10624                   2         Simon & Schuster Audio  1999   \n",
      "10926                   1                      Ivy Books  1981   \n",
      "11081                   9      Listening Library (Audio)  2006   \n",
      "\n",
      "                   author_1  \\\n",
      "306            Gary Chapman   \n",
      "853              Mark Twain   \n",
      "1061             NOT A BOOK   \n",
      "1064             NOT A BOOK   \n",
      "1230              Dan Brown   \n",
      "...                     ...   \n",
      "10030  Edgar Rice Burroughs   \n",
      "10192            Jim Lehrer   \n",
      "10624    Mary Higgins Clark   \n",
      "10926         Victoria Holt   \n",
      "11081        David Bromberg   \n",
      "\n",
      "                                                author_2  book_age  \n",
      "306                                                 None        18  \n",
      "853                                     Michael Prichard        20  \n",
      "1061                                                None        17  \n",
      "1064                                                None        20  \n",
      "1230                                        Paul Michael        17  \n",
      "...                                                  ...       ...  \n",
      "10030                                         John Bolen        18  \n",
      "10192                                               None        28  \n",
      "10624                                        Jan Maxwell        24  \n",
      "10926                                               None        42  \n",
      "11081  Jay Ungar/Molly Mason/Garrison Keillor/Mark O'...        17  \n",
      "\n",
      "[76 rows x 14 columns]\n",
      "\n",
      "Number of books with the smallest average rating: 76\n"
     ]
    }
   ],
   "source": [
    "# Find the books with 0 pages\n",
    "zero_pages = books['num_pages'].min()\n",
    "\n",
    "# Filter the books with the smallest average rating\n",
    "books_with_zero = books[books['num_pages'] == zero_pages]\n",
    "\n",
    "# Display the books with the smallest average rating\n",
    "print(books_with_zero)\n",
    "\n",
    "# Count the number of such books\n",
    "num_books_with_zero = books_with_zero.shape[0]\n",
    "print(f\"\\nNumber of books with the smallest average rating: {num_books_with_zero}\")"
   ]
  },
  {
   "cell_type": "code",
   "execution_count": 134,
   "metadata": {},
   "outputs": [
    {
     "name": "stdout",
     "output_type": "stream",
     "text": [
      "                                                   title        isbn\n",
      "306    The 5 Love Languages / The 5 Love Languages Jo...  0802415318\n",
      "853                     The Tragedy of Pudd'nhead Wilson  140015068X\n",
      "1061   Murder by Moonlight & Other Mysteries (New Adv...  0743564677\n",
      "1064   The Unfortunate Tobacconist & Other Mysteries ...  074353395X\n",
      "1230              The Da Vinci Code (Robert Langdon  #2)  0739339788\n",
      "...                                                  ...         ...\n",
      "10030                  The Chessmen of Mars (Barsoom #5)  1400130212\n",
      "10192                     Fine Lines (One-Eyed Mack  #6)  0517164353\n",
      "10624  Stowaway and Milk Run: Two Unabridged Stories ...  0671046241\n",
      "10926                        The Mask of the Enchantress  0449210847\n",
      "11081  Treasury of American Tall Tales: Volume 1: Dav...  0739336509\n",
      "\n",
      "[76 rows x 2 columns]\n"
     ]
    }
   ],
   "source": [
    "zero_pages_books = books[books['num_pages'] == 0]\n",
    "print(zero_pages_books[['title', 'isbn']])"
   ]
  },
  {
   "cell_type": "markdown",
   "metadata": {},
   "source": []
  },
  {
   "cell_type": "markdown",
   "metadata": {},
   "source": []
  },
  {
   "cell_type": "code",
   "execution_count": 135,
   "metadata": {},
   "outputs": [
    {
     "data": {
      "text/html": [
       "<div>\n",
       "<style scoped>\n",
       "    .dataframe tbody tr th:only-of-type {\n",
       "        vertical-align: middle;\n",
       "    }\n",
       "\n",
       "    .dataframe tbody tr th {\n",
       "        vertical-align: top;\n",
       "    }\n",
       "\n",
       "    .dataframe thead th {\n",
       "        text-align: right;\n",
       "    }\n",
       "</style>\n",
       "<table border=\"1\" class=\"dataframe\">\n",
       "  <thead>\n",
       "    <tr style=\"text-align: right;\">\n",
       "      <th></th>\n",
       "      <th>average_rating</th>\n",
       "      <th>num_pages</th>\n",
       "      <th>ratings_count</th>\n",
       "      <th>text_reviews_count</th>\n",
       "      <th>year</th>\n",
       "      <th>book_age</th>\n",
       "    </tr>\n",
       "  </thead>\n",
       "  <tbody>\n",
       "    <tr>\n",
       "      <th>average_rating</th>\n",
       "      <td>1.000000</td>\n",
       "      <td>0.164306</td>\n",
       "      <td>0.040446</td>\n",
       "      <td>0.033554</td>\n",
       "      <td>-0.040397</td>\n",
       "      <td>0.040397</td>\n",
       "    </tr>\n",
       "    <tr>\n",
       "      <th>num_pages</th>\n",
       "      <td>0.164306</td>\n",
       "      <td>1.000000</td>\n",
       "      <td>0.034202</td>\n",
       "      <td>0.036792</td>\n",
       "      <td>-0.019056</td>\n",
       "      <td>0.019056</td>\n",
       "    </tr>\n",
       "    <tr>\n",
       "      <th>ratings_count</th>\n",
       "      <td>0.040446</td>\n",
       "      <td>0.034202</td>\n",
       "      <td>1.000000</td>\n",
       "      <td>0.865971</td>\n",
       "      <td>0.044725</td>\n",
       "      <td>-0.044725</td>\n",
       "    </tr>\n",
       "    <tr>\n",
       "      <th>text_reviews_count</th>\n",
       "      <td>0.033554</td>\n",
       "      <td>0.036792</td>\n",
       "      <td>0.865971</td>\n",
       "      <td>1.000000</td>\n",
       "      <td>0.067452</td>\n",
       "      <td>-0.067452</td>\n",
       "    </tr>\n",
       "    <tr>\n",
       "      <th>year</th>\n",
       "      <td>-0.040397</td>\n",
       "      <td>-0.019056</td>\n",
       "      <td>0.044725</td>\n",
       "      <td>0.067452</td>\n",
       "      <td>1.000000</td>\n",
       "      <td>-1.000000</td>\n",
       "    </tr>\n",
       "    <tr>\n",
       "      <th>book_age</th>\n",
       "      <td>0.040397</td>\n",
       "      <td>0.019056</td>\n",
       "      <td>-0.044725</td>\n",
       "      <td>-0.067452</td>\n",
       "      <td>-1.000000</td>\n",
       "      <td>1.000000</td>\n",
       "    </tr>\n",
       "  </tbody>\n",
       "</table>\n",
       "</div>"
      ],
      "text/plain": [
       "                    average_rating  num_pages  ratings_count  \\\n",
       "average_rating            1.000000   0.164306       0.040446   \n",
       "num_pages                 0.164306   1.000000       0.034202   \n",
       "ratings_count             0.040446   0.034202       1.000000   \n",
       "text_reviews_count        0.033554   0.036792       0.865971   \n",
       "year                     -0.040397  -0.019056       0.044725   \n",
       "book_age                  0.040397   0.019056      -0.044725   \n",
       "\n",
       "                    text_reviews_count      year  book_age  \n",
       "average_rating                0.033554 -0.040397  0.040397  \n",
       "num_pages                     0.036792 -0.019056  0.019056  \n",
       "ratings_count                 0.865971  0.044725 -0.044725  \n",
       "text_reviews_count            1.000000  0.067452 -0.067452  \n",
       "year                          0.067452  1.000000 -1.000000  \n",
       "book_age                     -0.067452 -1.000000  1.000000  "
      ]
     },
     "execution_count": 135,
     "metadata": {},
     "output_type": "execute_result"
    }
   ],
   "source": [
    "# First, generating a correlation matrix \n",
    "numeric_columns = books.select_dtypes(include=['int64', 'float64'])\n",
    "numeric_columns.corr(method='pearson')"
   ]
  },
  {
   "cell_type": "markdown",
   "metadata": {},
   "source": []
  },
  {
   "cell_type": "code",
   "execution_count": 136,
   "metadata": {},
   "outputs": [
    {
     "data": {
      "text/html": [
       "<div>\n",
       "<style scoped>\n",
       "    .dataframe tbody tr th:only-of-type {\n",
       "        vertical-align: middle;\n",
       "    }\n",
       "\n",
       "    .dataframe tbody tr th {\n",
       "        vertical-align: top;\n",
       "    }\n",
       "\n",
       "    .dataframe thead th {\n",
       "        text-align: right;\n",
       "    }\n",
       "</style>\n",
       "<table border=\"1\" class=\"dataframe\">\n",
       "  <thead>\n",
       "    <tr style=\"text-align: right;\">\n",
       "      <th></th>\n",
       "      <th>title</th>\n",
       "      <th>authors</th>\n",
       "      <th>average_rating</th>\n",
       "      <th>isbn</th>\n",
       "      <th>isbn13</th>\n",
       "      <th>language_code</th>\n",
       "      <th>num_pages</th>\n",
       "      <th>ratings_count</th>\n",
       "      <th>text_reviews_count</th>\n",
       "      <th>publisher</th>\n",
       "      <th>year</th>\n",
       "      <th>author_1</th>\n",
       "      <th>author_2</th>\n",
       "      <th>book_age</th>\n",
       "    </tr>\n",
       "  </thead>\n",
       "  <tbody>\n",
       "    <tr>\n",
       "      <th>0</th>\n",
       "      <td>Harry Potter and the Half-Blood Prince (Harry ...</td>\n",
       "      <td>J.K. Rowling/Mary GrandPré</td>\n",
       "      <td>4.57</td>\n",
       "      <td>0439785960</td>\n",
       "      <td>9780440000000.0</td>\n",
       "      <td>eng</td>\n",
       "      <td>652</td>\n",
       "      <td>2095690</td>\n",
       "      <td>27591</td>\n",
       "      <td>Scholastic Inc.</td>\n",
       "      <td>2006</td>\n",
       "      <td>J.K. Rowling</td>\n",
       "      <td>Mary GrandPré</td>\n",
       "      <td>17</td>\n",
       "    </tr>\n",
       "    <tr>\n",
       "      <th>1</th>\n",
       "      <td>Harry Potter and the Order of the Phoenix (Har...</td>\n",
       "      <td>J.K. Rowling/Mary GrandPré</td>\n",
       "      <td>4.49</td>\n",
       "      <td>0439358078</td>\n",
       "      <td>9780440000000.0</td>\n",
       "      <td>eng</td>\n",
       "      <td>870</td>\n",
       "      <td>2153167</td>\n",
       "      <td>29221</td>\n",
       "      <td>Scholastic Inc.</td>\n",
       "      <td>2004</td>\n",
       "      <td>J.K. Rowling</td>\n",
       "      <td>Mary GrandPré</td>\n",
       "      <td>19</td>\n",
       "    </tr>\n",
       "    <tr>\n",
       "      <th>2</th>\n",
       "      <td>Harry Potter and the Chamber of Secrets (Harry...</td>\n",
       "      <td>J.K. Rowling</td>\n",
       "      <td>4.42</td>\n",
       "      <td>0439554896</td>\n",
       "      <td>9780440000000.0</td>\n",
       "      <td>eng</td>\n",
       "      <td>352</td>\n",
       "      <td>6333</td>\n",
       "      <td>244</td>\n",
       "      <td>Scholastic</td>\n",
       "      <td>2003</td>\n",
       "      <td>J.K. Rowling</td>\n",
       "      <td>None</td>\n",
       "      <td>20</td>\n",
       "    </tr>\n",
       "    <tr>\n",
       "      <th>3</th>\n",
       "      <td>Harry Potter and the Prisoner of Azkaban (Harr...</td>\n",
       "      <td>J.K. Rowling/Mary GrandPré</td>\n",
       "      <td>4.56</td>\n",
       "      <td>043965548X</td>\n",
       "      <td>9780440000000.0</td>\n",
       "      <td>eng</td>\n",
       "      <td>435</td>\n",
       "      <td>2339585</td>\n",
       "      <td>36325</td>\n",
       "      <td>Scholastic Inc.</td>\n",
       "      <td>2004</td>\n",
       "      <td>J.K. Rowling</td>\n",
       "      <td>Mary GrandPré</td>\n",
       "      <td>19</td>\n",
       "    </tr>\n",
       "    <tr>\n",
       "      <th>4</th>\n",
       "      <td>Harry Potter Boxed Set  Books 1-5 (Harry Potte...</td>\n",
       "      <td>J.K. Rowling/Mary GrandPré</td>\n",
       "      <td>4.78</td>\n",
       "      <td>0439682584</td>\n",
       "      <td>9780440000000.0</td>\n",
       "      <td>eng</td>\n",
       "      <td>2690</td>\n",
       "      <td>41428</td>\n",
       "      <td>164</td>\n",
       "      <td>Scholastic</td>\n",
       "      <td>2004</td>\n",
       "      <td>J.K. Rowling</td>\n",
       "      <td>Mary GrandPré</td>\n",
       "      <td>19</td>\n",
       "    </tr>\n",
       "  </tbody>\n",
       "</table>\n",
       "</div>"
      ],
      "text/plain": [
       "                                               title  \\\n",
       "0  Harry Potter and the Half-Blood Prince (Harry ...   \n",
       "1  Harry Potter and the Order of the Phoenix (Har...   \n",
       "2  Harry Potter and the Chamber of Secrets (Harry...   \n",
       "3  Harry Potter and the Prisoner of Azkaban (Harr...   \n",
       "4  Harry Potter Boxed Set  Books 1-5 (Harry Potte...   \n",
       "\n",
       "                      authors  average_rating        isbn           isbn13  \\\n",
       "0  J.K. Rowling/Mary GrandPré            4.57  0439785960  9780440000000.0   \n",
       "1  J.K. Rowling/Mary GrandPré            4.49  0439358078  9780440000000.0   \n",
       "2                J.K. Rowling            4.42  0439554896  9780440000000.0   \n",
       "3  J.K. Rowling/Mary GrandPré            4.56  043965548X  9780440000000.0   \n",
       "4  J.K. Rowling/Mary GrandPré            4.78  0439682584  9780440000000.0   \n",
       "\n",
       "  language_code  num_pages  ratings_count  text_reviews_count  \\\n",
       "0           eng        652        2095690               27591   \n",
       "1           eng        870        2153167               29221   \n",
       "2           eng        352           6333                 244   \n",
       "3           eng        435        2339585               36325   \n",
       "4           eng       2690          41428                 164   \n",
       "\n",
       "         publisher  year      author_1       author_2  book_age  \n",
       "0  Scholastic Inc.  2006  J.K. Rowling  Mary GrandPré        17  \n",
       "1  Scholastic Inc.  2004  J.K. Rowling  Mary GrandPré        19  \n",
       "2       Scholastic  2003  J.K. Rowling           None        20  \n",
       "3  Scholastic Inc.  2004  J.K. Rowling  Mary GrandPré        19  \n",
       "4       Scholastic  2004  J.K. Rowling  Mary GrandPré        19  "
      ]
     },
     "execution_count": 136,
     "metadata": {},
     "output_type": "execute_result"
    }
   ],
   "source": [
    "books.head()"
   ]
  },
  {
   "cell_type": "markdown",
   "metadata": {},
   "source": [
    "I'm going to leave the missing number of pages as it is because the number is quite small and I'm not planning to use the page data for now."
   ]
  },
  {
   "cell_type": "code",
   "execution_count": 137,
   "metadata": {},
   "outputs": [],
   "source": [
    "# Split the 'authors' column into two columns 'author_1' and 'author_2' based on the '/' separator\n",
    "books[['author_1', 'author_2']] = books['authors'].str.split('/', n=1, expand=True)\n",
    "\n",
    "# If you want to remove any leading or trailing whitespaces from the author names:\n",
    "books['author_1'] = books['author_1'].str.strip()\n",
    "books['author_2'] = books['author_2'].str.strip()\n"
   ]
  },
  {
   "cell_type": "code",
   "execution_count": 138,
   "metadata": {},
   "outputs": [
    {
     "data": {
      "text/html": [
       "<div>\n",
       "<style scoped>\n",
       "    .dataframe tbody tr th:only-of-type {\n",
       "        vertical-align: middle;\n",
       "    }\n",
       "\n",
       "    .dataframe tbody tr th {\n",
       "        vertical-align: top;\n",
       "    }\n",
       "\n",
       "    .dataframe thead th {\n",
       "        text-align: right;\n",
       "    }\n",
       "</style>\n",
       "<table border=\"1\" class=\"dataframe\">\n",
       "  <thead>\n",
       "    <tr style=\"text-align: right;\">\n",
       "      <th></th>\n",
       "      <th>title</th>\n",
       "      <th>authors</th>\n",
       "      <th>average_rating</th>\n",
       "      <th>isbn</th>\n",
       "      <th>isbn13</th>\n",
       "      <th>language_code</th>\n",
       "      <th>num_pages</th>\n",
       "      <th>ratings_count</th>\n",
       "      <th>text_reviews_count</th>\n",
       "      <th>publisher</th>\n",
       "      <th>year</th>\n",
       "      <th>author_1</th>\n",
       "      <th>author_2</th>\n",
       "      <th>book_age</th>\n",
       "    </tr>\n",
       "  </thead>\n",
       "  <tbody>\n",
       "    <tr>\n",
       "      <th>0</th>\n",
       "      <td>Harry Potter and the Half-Blood Prince (Harry ...</td>\n",
       "      <td>J.K. Rowling/Mary GrandPré</td>\n",
       "      <td>4.57</td>\n",
       "      <td>0439785960</td>\n",
       "      <td>9780440000000.0</td>\n",
       "      <td>eng</td>\n",
       "      <td>652</td>\n",
       "      <td>2095690</td>\n",
       "      <td>27591</td>\n",
       "      <td>Scholastic Inc.</td>\n",
       "      <td>2006</td>\n",
       "      <td>J.K. Rowling</td>\n",
       "      <td>Mary GrandPré</td>\n",
       "      <td>17</td>\n",
       "    </tr>\n",
       "    <tr>\n",
       "      <th>1</th>\n",
       "      <td>Harry Potter and the Order of the Phoenix (Har...</td>\n",
       "      <td>J.K. Rowling/Mary GrandPré</td>\n",
       "      <td>4.49</td>\n",
       "      <td>0439358078</td>\n",
       "      <td>9780440000000.0</td>\n",
       "      <td>eng</td>\n",
       "      <td>870</td>\n",
       "      <td>2153167</td>\n",
       "      <td>29221</td>\n",
       "      <td>Scholastic Inc.</td>\n",
       "      <td>2004</td>\n",
       "      <td>J.K. Rowling</td>\n",
       "      <td>Mary GrandPré</td>\n",
       "      <td>19</td>\n",
       "    </tr>\n",
       "    <tr>\n",
       "      <th>2</th>\n",
       "      <td>Harry Potter and the Chamber of Secrets (Harry...</td>\n",
       "      <td>J.K. Rowling</td>\n",
       "      <td>4.42</td>\n",
       "      <td>0439554896</td>\n",
       "      <td>9780440000000.0</td>\n",
       "      <td>eng</td>\n",
       "      <td>352</td>\n",
       "      <td>6333</td>\n",
       "      <td>244</td>\n",
       "      <td>Scholastic</td>\n",
       "      <td>2003</td>\n",
       "      <td>J.K. Rowling</td>\n",
       "      <td>None</td>\n",
       "      <td>20</td>\n",
       "    </tr>\n",
       "    <tr>\n",
       "      <th>3</th>\n",
       "      <td>Harry Potter and the Prisoner of Azkaban (Harr...</td>\n",
       "      <td>J.K. Rowling/Mary GrandPré</td>\n",
       "      <td>4.56</td>\n",
       "      <td>043965548X</td>\n",
       "      <td>9780440000000.0</td>\n",
       "      <td>eng</td>\n",
       "      <td>435</td>\n",
       "      <td>2339585</td>\n",
       "      <td>36325</td>\n",
       "      <td>Scholastic Inc.</td>\n",
       "      <td>2004</td>\n",
       "      <td>J.K. Rowling</td>\n",
       "      <td>Mary GrandPré</td>\n",
       "      <td>19</td>\n",
       "    </tr>\n",
       "    <tr>\n",
       "      <th>4</th>\n",
       "      <td>Harry Potter Boxed Set  Books 1-5 (Harry Potte...</td>\n",
       "      <td>J.K. Rowling/Mary GrandPré</td>\n",
       "      <td>4.78</td>\n",
       "      <td>0439682584</td>\n",
       "      <td>9780440000000.0</td>\n",
       "      <td>eng</td>\n",
       "      <td>2690</td>\n",
       "      <td>41428</td>\n",
       "      <td>164</td>\n",
       "      <td>Scholastic</td>\n",
       "      <td>2004</td>\n",
       "      <td>J.K. Rowling</td>\n",
       "      <td>Mary GrandPré</td>\n",
       "      <td>19</td>\n",
       "    </tr>\n",
       "  </tbody>\n",
       "</table>\n",
       "</div>"
      ],
      "text/plain": [
       "                                               title  \\\n",
       "0  Harry Potter and the Half-Blood Prince (Harry ...   \n",
       "1  Harry Potter and the Order of the Phoenix (Har...   \n",
       "2  Harry Potter and the Chamber of Secrets (Harry...   \n",
       "3  Harry Potter and the Prisoner of Azkaban (Harr...   \n",
       "4  Harry Potter Boxed Set  Books 1-5 (Harry Potte...   \n",
       "\n",
       "                      authors  average_rating        isbn           isbn13  \\\n",
       "0  J.K. Rowling/Mary GrandPré            4.57  0439785960  9780440000000.0   \n",
       "1  J.K. Rowling/Mary GrandPré            4.49  0439358078  9780440000000.0   \n",
       "2                J.K. Rowling            4.42  0439554896  9780440000000.0   \n",
       "3  J.K. Rowling/Mary GrandPré            4.56  043965548X  9780440000000.0   \n",
       "4  J.K. Rowling/Mary GrandPré            4.78  0439682584  9780440000000.0   \n",
       "\n",
       "  language_code  num_pages  ratings_count  text_reviews_count  \\\n",
       "0           eng        652        2095690               27591   \n",
       "1           eng        870        2153167               29221   \n",
       "2           eng        352           6333                 244   \n",
       "3           eng        435        2339585               36325   \n",
       "4           eng       2690          41428                 164   \n",
       "\n",
       "         publisher  year      author_1       author_2  book_age  \n",
       "0  Scholastic Inc.  2006  J.K. Rowling  Mary GrandPré        17  \n",
       "1  Scholastic Inc.  2004  J.K. Rowling  Mary GrandPré        19  \n",
       "2       Scholastic  2003  J.K. Rowling           None        20  \n",
       "3  Scholastic Inc.  2004  J.K. Rowling  Mary GrandPré        19  \n",
       "4       Scholastic  2004  J.K. Rowling  Mary GrandPré        19  "
      ]
     },
     "execution_count": 138,
     "metadata": {},
     "output_type": "execute_result"
    }
   ],
   "source": [
    "books.head()"
   ]
  },
  {
   "cell_type": "markdown",
   "metadata": {},
   "source": [
    "# Author column"
   ]
  },
  {
   "cell_type": "code",
   "execution_count": 139,
   "metadata": {},
   "outputs": [
    {
     "name": "stdout",
     "output_type": "stream",
     "text": [
      "No issue\n",
      "No issue\n"
     ]
    }
   ],
   "source": [
    "# Check if there are rows where 'authors' contains a slash but 'author_1' is empty.\n",
    "check_1 = books[(books['authors'].str.contains('/')) & (books['author_1'].isnull())]\n",
    "if len(check_1) > 0:\n",
    "    print(len(check_1))\n",
    "else:\n",
    "    print(\"No issue\")\n",
    "\n",
    "# Check if there are rows where 'authors' doesn't contain a slash but 'author_2' is not empty.\n",
    "check_2 = books[(books['authors'].str.contains('/')) & (books['author_2'].isnull())]\n",
    "if len(check_1) > 0:\n",
    "    print(len(check_2))\n",
    "else:\n",
    "    print(\"No issue\")"
   ]
  },
  {
   "cell_type": "code",
   "execution_count": 140,
   "metadata": {},
   "outputs": [
    {
     "name": "stdout",
     "output_type": "stream",
     "text": [
      "\n",
      "Random Sample for Visual Inspection:\n",
      "                                                 authors  \\\n",
      "6826                       Thomas Aquinas/Ralph McInerny   \n",
      "9426                                        Muriel Spark   \n",
      "9560                                        Fred Goodman   \n",
      "8462                                  Stephen Greenblatt   \n",
      "2370                  John Dickson Carr/Daniel Stashower   \n",
      "7393                                      William Gaddis   \n",
      "10698                                  Linda Lael Miller   \n",
      "2650                                    Orson Scott Card   \n",
      "4364               Albert Camus/Carol Cosman/Orhan Pamuk   \n",
      "9577                                   Richard A. Posner   \n",
      "8818   Theodosius Dobzhansky/Niles Eldredge/Stephen J...   \n",
      "2061                        Lauren  Levin/Lauren Blitzer   \n",
      "3372                  Nathaniel Hawthorne/Karin Jacobson   \n",
      "1367                    John Warry/Phillip de ste. Croix   \n",
      "9144                           Keith Badman/Keith Badman   \n",
      "3521                                    Jonathan Franzen   \n",
      "6108   Jacob Grimm/Wilhelm Grimm/Maria Tatar/A.S. Bya...   \n",
      "5553                                        Charles Todd   \n",
      "4680                               Christopher Isherwood   \n",
      "9550                                           Ed McBain   \n",
      "\n",
      "                    author_1  \\\n",
      "6826          Thomas Aquinas   \n",
      "9426            Muriel Spark   \n",
      "9560            Fred Goodman   \n",
      "8462      Stephen Greenblatt   \n",
      "2370       John Dickson Carr   \n",
      "7393          William Gaddis   \n",
      "10698      Linda Lael Miller   \n",
      "2650        Orson Scott Card   \n",
      "4364            Albert Camus   \n",
      "9577       Richard A. Posner   \n",
      "8818   Theodosius Dobzhansky   \n",
      "2061           Lauren  Levin   \n",
      "3372     Nathaniel Hawthorne   \n",
      "1367              John Warry   \n",
      "9144            Keith Badman   \n",
      "3521        Jonathan Franzen   \n",
      "6108             Jacob Grimm   \n",
      "5553            Charles Todd   \n",
      "4680   Christopher Isherwood   \n",
      "9550               Ed McBain   \n",
      "\n",
      "                                                author_2  \n",
      "6826                                      Ralph McInerny  \n",
      "9426                                                None  \n",
      "9560                                                None  \n",
      "8462                                                None  \n",
      "2370                                    Daniel Stashower  \n",
      "7393                                                None  \n",
      "10698                                               None  \n",
      "2650                                                None  \n",
      "4364                            Carol Cosman/Orhan Pamuk  \n",
      "9577                                                None  \n",
      "8818                    Niles Eldredge/Stephen Jay Gould  \n",
      "2061                                      Lauren Blitzer  \n",
      "3372                                      Karin Jacobson  \n",
      "1367                               Phillip de ste. Croix  \n",
      "9144                                        Keith Badman  \n",
      "3521                                                None  \n",
      "6108   Wilhelm Grimm/Maria Tatar/A.S. Byatt/George Cr...  \n",
      "5553                                                None  \n",
      "4680                                                None  \n",
      "9550                                                None  \n"
     ]
    }
   ],
   "source": [
    "# Visually inspect a random sample\n",
    "print(\"\\nRandom Sample for Visual Inspection:\")\n",
    "print(books[['authors', 'author_1', 'author_2']].sample(20))"
   ]
  },
  {
   "cell_type": "code",
   "execution_count": 141,
   "metadata": {},
   "outputs": [
    {
     "data": {
      "text/plain": [
       "author_1\n",
       "William Shakespeare    88\n",
       "Stephen King           82\n",
       "J.R.R. Tolkien         51\n",
       "P.G. Wodehouse         46\n",
       "Agatha Christie        45\n",
       "Name: count, dtype: int64"
      ]
     },
     "execution_count": 141,
     "metadata": {},
     "output_type": "execute_result"
    }
   ],
   "source": [
    "# Author with the most books\n",
    "most_books = books['author_1'].value_counts().head()\n",
    "most_books"
   ]
  },
  {
   "cell_type": "code",
   "execution_count": 142,
   "metadata": {},
   "outputs": [
    {
     "data": {
      "text/plain": [
       "author_1\n",
       "J.D. Salinger        396859.857143\n",
       "J.K. Rowling         375245.333333\n",
       "Lois Lowry           261072.714286\n",
       "Dan Brown            243545.117647\n",
       "Charlotte Brontë     236731.500000\n",
       "Elizabeth Gilbert    229345.166667\n",
       "Arthur Golden        226871.714286\n",
       "Sophie Kinsella      194644.750000\n",
       "Sue Monk Kidd        187159.166667\n",
       "George Orwell        179011.153846\n",
       "Name: ratings_count, dtype: float64"
      ]
     },
     "execution_count": 142,
     "metadata": {},
     "output_type": "execute_result"
    }
   ],
   "source": [
    "# Highest rating by author (the popularity of these authors in terms of the sheer number of readers (or at least raters) they attract)\n",
    "min_books = 5\n",
    "ang_ratings = books.groupby('author_1').filter(lambda x: len(x) > min_books)\n",
    "top_avg_rating = ang_ratings.groupby('author_1')['ratings_count'].mean().sort_values(ascending=False).head(10)\n",
    "\n",
    "top_avg_rating\n"
   ]
  },
  {
   "cell_type": "markdown",
   "metadata": {},
   "source": [
    "# Book Age"
   ]
  },
  {
   "cell_type": "code",
   "execution_count": 143,
   "metadata": {},
   "outputs": [
    {
     "data": {
      "text/html": [
       "<div>\n",
       "<style scoped>\n",
       "    .dataframe tbody tr th:only-of-type {\n",
       "        vertical-align: middle;\n",
       "    }\n",
       "\n",
       "    .dataframe tbody tr th {\n",
       "        vertical-align: top;\n",
       "    }\n",
       "\n",
       "    .dataframe thead th {\n",
       "        text-align: right;\n",
       "    }\n",
       "</style>\n",
       "<table border=\"1\" class=\"dataframe\">\n",
       "  <thead>\n",
       "    <tr style=\"text-align: right;\">\n",
       "      <th></th>\n",
       "      <th>title</th>\n",
       "      <th>authors</th>\n",
       "      <th>average_rating</th>\n",
       "      <th>isbn</th>\n",
       "      <th>isbn13</th>\n",
       "      <th>language_code</th>\n",
       "      <th>num_pages</th>\n",
       "      <th>ratings_count</th>\n",
       "      <th>text_reviews_count</th>\n",
       "      <th>publisher</th>\n",
       "      <th>year</th>\n",
       "      <th>author_1</th>\n",
       "      <th>author_2</th>\n",
       "      <th>book_age</th>\n",
       "    </tr>\n",
       "  </thead>\n",
       "  <tbody>\n",
       "    <tr>\n",
       "      <th>0</th>\n",
       "      <td>Harry Potter and the Half-Blood Prince (Harry ...</td>\n",
       "      <td>J.K. Rowling/Mary GrandPré</td>\n",
       "      <td>4.57</td>\n",
       "      <td>0439785960</td>\n",
       "      <td>9780440000000.0</td>\n",
       "      <td>eng</td>\n",
       "      <td>652</td>\n",
       "      <td>2095690</td>\n",
       "      <td>27591</td>\n",
       "      <td>Scholastic Inc.</td>\n",
       "      <td>2006</td>\n",
       "      <td>J.K. Rowling</td>\n",
       "      <td>Mary GrandPré</td>\n",
       "      <td>17</td>\n",
       "    </tr>\n",
       "    <tr>\n",
       "      <th>1</th>\n",
       "      <td>Harry Potter and the Order of the Phoenix (Har...</td>\n",
       "      <td>J.K. Rowling/Mary GrandPré</td>\n",
       "      <td>4.49</td>\n",
       "      <td>0439358078</td>\n",
       "      <td>9780440000000.0</td>\n",
       "      <td>eng</td>\n",
       "      <td>870</td>\n",
       "      <td>2153167</td>\n",
       "      <td>29221</td>\n",
       "      <td>Scholastic Inc.</td>\n",
       "      <td>2004</td>\n",
       "      <td>J.K. Rowling</td>\n",
       "      <td>Mary GrandPré</td>\n",
       "      <td>19</td>\n",
       "    </tr>\n",
       "    <tr>\n",
       "      <th>2</th>\n",
       "      <td>Harry Potter and the Chamber of Secrets (Harry...</td>\n",
       "      <td>J.K. Rowling</td>\n",
       "      <td>4.42</td>\n",
       "      <td>0439554896</td>\n",
       "      <td>9780440000000.0</td>\n",
       "      <td>eng</td>\n",
       "      <td>352</td>\n",
       "      <td>6333</td>\n",
       "      <td>244</td>\n",
       "      <td>Scholastic</td>\n",
       "      <td>2003</td>\n",
       "      <td>J.K. Rowling</td>\n",
       "      <td>None</td>\n",
       "      <td>20</td>\n",
       "    </tr>\n",
       "    <tr>\n",
       "      <th>3</th>\n",
       "      <td>Harry Potter and the Prisoner of Azkaban (Harr...</td>\n",
       "      <td>J.K. Rowling/Mary GrandPré</td>\n",
       "      <td>4.56</td>\n",
       "      <td>043965548X</td>\n",
       "      <td>9780440000000.0</td>\n",
       "      <td>eng</td>\n",
       "      <td>435</td>\n",
       "      <td>2339585</td>\n",
       "      <td>36325</td>\n",
       "      <td>Scholastic Inc.</td>\n",
       "      <td>2004</td>\n",
       "      <td>J.K. Rowling</td>\n",
       "      <td>Mary GrandPré</td>\n",
       "      <td>19</td>\n",
       "    </tr>\n",
       "    <tr>\n",
       "      <th>4</th>\n",
       "      <td>Harry Potter Boxed Set  Books 1-5 (Harry Potte...</td>\n",
       "      <td>J.K. Rowling/Mary GrandPré</td>\n",
       "      <td>4.78</td>\n",
       "      <td>0439682584</td>\n",
       "      <td>9780440000000.0</td>\n",
       "      <td>eng</td>\n",
       "      <td>2690</td>\n",
       "      <td>41428</td>\n",
       "      <td>164</td>\n",
       "      <td>Scholastic</td>\n",
       "      <td>2004</td>\n",
       "      <td>J.K. Rowling</td>\n",
       "      <td>Mary GrandPré</td>\n",
       "      <td>19</td>\n",
       "    </tr>\n",
       "  </tbody>\n",
       "</table>\n",
       "</div>"
      ],
      "text/plain": [
       "                                               title  \\\n",
       "0  Harry Potter and the Half-Blood Prince (Harry ...   \n",
       "1  Harry Potter and the Order of the Phoenix (Har...   \n",
       "2  Harry Potter and the Chamber of Secrets (Harry...   \n",
       "3  Harry Potter and the Prisoner of Azkaban (Harr...   \n",
       "4  Harry Potter Boxed Set  Books 1-5 (Harry Potte...   \n",
       "\n",
       "                      authors  average_rating        isbn           isbn13  \\\n",
       "0  J.K. Rowling/Mary GrandPré            4.57  0439785960  9780440000000.0   \n",
       "1  J.K. Rowling/Mary GrandPré            4.49  0439358078  9780440000000.0   \n",
       "2                J.K. Rowling            4.42  0439554896  9780440000000.0   \n",
       "3  J.K. Rowling/Mary GrandPré            4.56  043965548X  9780440000000.0   \n",
       "4  J.K. Rowling/Mary GrandPré            4.78  0439682584  9780440000000.0   \n",
       "\n",
       "  language_code  num_pages  ratings_count  text_reviews_count  \\\n",
       "0           eng        652        2095690               27591   \n",
       "1           eng        870        2153167               29221   \n",
       "2           eng        352           6333                 244   \n",
       "3           eng        435        2339585               36325   \n",
       "4           eng       2690          41428                 164   \n",
       "\n",
       "         publisher  year      author_1       author_2  book_age  \n",
       "0  Scholastic Inc.  2006  J.K. Rowling  Mary GrandPré        17  \n",
       "1  Scholastic Inc.  2004  J.K. Rowling  Mary GrandPré        19  \n",
       "2       Scholastic  2003  J.K. Rowling           None        20  \n",
       "3  Scholastic Inc.  2004  J.K. Rowling  Mary GrandPré        19  \n",
       "4       Scholastic  2004  J.K. Rowling  Mary GrandPré        19  "
      ]
     },
     "execution_count": 143,
     "metadata": {},
     "output_type": "execute_result"
    }
   ],
   "source": [
    "current_year = pd.Timestamp.now().year\n",
    "books['book_age'] = current_year - books['year']\n",
    "\n",
    "books.head()"
   ]
  },
  {
   "cell_type": "code",
   "execution_count": 144,
   "metadata": {},
   "outputs": [
    {
     "data": {
      "text/plain": [
       "<function matplotlib.pyplot.show(close=None, block=None)>"
      ]
     },
     "execution_count": 144,
     "metadata": {},
     "output_type": "execute_result"
    },
    {
     "data": {
      "image/png": "[encoded data removed]",
      "text/plain": [
       "<Figure size 1000x600 with 1 Axes>"
      ]
     },
     "metadata": {},
     "output_type": "display_data"
    }
   ],
   "source": [
    "import matplotlib.pyplot as plt\n",
    "\n",
    "# Create a scatter plot to visualize the relationship beteew books' age and averahe rating\n",
    "plt.figure(figsize=(10, 6))\n",
    "plt.scatter(books['book_age'], books['average_rating'], alpha=.5)\n",
    "plt.title('Relationsip between Book Age and Average Rating')\n",
    "plt.xlabel('Book Age')\n",
    "plt.ylabel('Average Rating')\n",
    "plt.grid(True)\n",
    "plt.show"
   ]
  },
  {
   "cell_type": "markdown",
   "metadata": {},
   "source": [
    "The cluster of books is around the age range of rouphly 10 - 40 years and have rating 3.4 - 4.5 \n",
    "There is not that many books beyond 60+ years which is not suprising due to the nature of book publishing and data collection back there. \n",
    "\n",
    "The number of low-rated books is surprisingly low, indicating a potential bias towards popular books and higher ratings due to social influence would like to explore more about this issue.."
   ]
  },
  {
   "cell_type": "code",
   "execution_count": 145,
   "metadata": {},
   "outputs": [],
   "source": [
    "import seaborn as sns \n",
    "from scipy.stats import ttest_ind"
   ]
  },
  {
   "cell_type": "code",
   "execution_count": 146,
   "metadata": {},
   "outputs": [
    {
     "name": "stdout",
     "output_type": "stream",
     "text": [
      "Average rating for books with many reviews: 4.00\n",
      "Average rating for books with few reviews: 3.94\n"
     ]
    },
    {
     "data": {
      "image/png": "[encoded data removed]",
      "text/plain": [
       "<Figure size 1200x600 with 1 Axes>"
      ]
     },
     "metadata": {},
     "output_type": "display_data"
    }
   ],
   "source": [
    "# Define threshold for many reviews (top 10%)\n",
    "threshold = books['ratings_count'].quantile(0.90)\n",
    "\n",
    "# Define the threshold for many reviews (e.g., top 10%)\n",
    "threshold = books['ratings_count'].quantile(0.90)\n",
    "\n",
    "# Segment the dataset\n",
    "many_reviews = books[books['ratings_count'] > threshold]\n",
    "few_reviews = books[books['ratings_count'] <= threshold]\n",
    "\n",
    "# Calculate average ratings\n",
    "avg_rating_many = many_reviews['average_rating'].mean()\n",
    "avg_rating_few = few_reviews['average_rating'].mean()\n",
    "\n",
    "print(f\"Average rating for books with many reviews: {avg_rating_many:.2f}\")\n",
    "print(f\"Average rating for books with few reviews: {avg_rating_few:.2f}\")\n",
    "\n",
    "\n",
    "plt.figure(figsize=(12,6))\n",
    "sns.histplot(many_reviews['average_rating'], color = 'blue', label = 'Many Reviews', kde=True, bins=20)\n",
    "sns.histplot(few_reviews['average_rating'], color='red', label='Few Reviews', kde=True, bins=20)\n",
    "plt.xlabel('Average Rating')\n",
    "plt.ylabel('Count')\n",
    "plt.title('Distribution of Ratings: Many Reviews vs. Few Reviews')\n",
    "plt.legend()\n",
    "plt.show()"
   ]
  },
  {
   "cell_type": "markdown",
   "metadata": {},
   "source": [
    "When it comes to books with fewer reviews, the distribution is broader and takes on a near-normal (bell-shaped) form, although it has a slight positive skew. Although the average ratings for many books with a small number of reviews fall between 3.5 and 4.5\n",
    "\n",
    "The distribution of ratings for books with a large number of reviews is narrower and more concentrated around the 4.0 to 4.5 range. This implies that books that are popular in terms of the number of reviews they receive generally have higher average ratings. Additionally, it is evident that there is a skewness in the distribution, as very few books with many reviews have a rating below 3.5.\n",
    "\n",
    "\n",
    "bias: The visualization corroborates my suspicion that books with many reviews tend to have higher average ratings, which could indicate a herd mentality - popular books (those with many reviews) may receive consistently high ratings because of their popularity. On the other hand, books with fewer reviews have a more varied rating distribution, which could suggest a more unbiased or genuine reflection of readers' opinion"
   ]
  },
  {
   "cell_type": "markdown",
   "metadata": {},
   "source": [
    "# Publisher Column"
   ]
  },
  {
   "cell_type": "code",
   "execution_count": 147,
   "metadata": {},
   "outputs": [
    {
     "data": {
      "text/plain": [
       "publisher\n",
       "Vintage             318\n",
       "Penguin Books       261\n",
       "Penguin Classics    184\n",
       "Mariner Books       150\n",
       "Ballantine Books    144\n",
       "Name: count, dtype: int64"
      ]
     },
     "execution_count": 147,
     "metadata": {},
     "output_type": "execute_result"
    }
   ],
   "source": [
    "top_publisher = books['publisher'].value_counts().head()\n",
    "top_publisher"
   ]
  }
 ],
 "metadata": {
  "kernelspec": {
   "display_name": "Python 3.11.4 64-bit",
   "language": "python",
   "name": "python3"
  },
  "language_info": {
   "codemirror_mode": {
    "name": "ipython",
    "version": 3
   },
   "file_extension": ".py",
   "mimetype": "text/x-python",
   "name": "python",
   "nbconvert_exporter": "python",
   "pygments_lexer": "ipython3",
   "version": "3.11.4"
  },
  "orig_nbformat": 4,
  "vscode": {
   "interpreter": {
    "hash": "aee8b7b246df8f9039afb4144a1f6fd8d2ca17a180786b69acc140d282b71a49"
   }
  }
 },
 "nbformat": 4,
 "nbformat_minor": 2
}
